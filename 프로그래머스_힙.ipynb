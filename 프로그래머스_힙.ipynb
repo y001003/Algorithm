{
  "nbformat": 4,
  "nbformat_minor": 0,
  "metadata": {
    "colab": {
      "name": "프로그래머스 힙.ipynb",
      "provenance": [],
      "collapsed_sections": [],
      "authorship_tag": "ABX9TyOXimIQwDLbe8fBHdeGYh+c",
      "include_colab_link": true
    },
    "kernelspec": {
      "name": "python3",
      "display_name": "Python 3"
    },
    "language_info": {
      "name": "python"
    }
  },
  "cells": [
    {
      "cell_type": "markdown",
      "metadata": {
        "id": "view-in-github",
        "colab_type": "text"
      },
      "source": [
        "<a href=\"https://colab.research.google.com/github/y001003/Algorithm/blob/main/%ED%94%84%EB%A1%9C%EA%B7%B8%EB%9E%98%EB%A8%B8%EC%8A%A4_%ED%9E%99.ipynb\" target=\"_parent\"><img src=\"https://colab.research.google.com/assets/colab-badge.svg\" alt=\"Open In Colab\"/></a>"
      ]
    },
    {
      "cell_type": "markdown",
      "source": [
        "# 더 맵게\n",
        "\n",
        "4: 47 시작"
      ],
      "metadata": {
        "id": "tk-BSyefGc_2"
      }
    },
    {
      "cell_type": "code",
      "source": [
        "\n",
        "scoville, K = [1, 2, 3, 9, 10, 12],\t7"
      ],
      "metadata": {
        "id": "70A5yf4kGnkd"
      },
      "execution_count": null,
      "outputs": []
    },
    {
      "cell_type": "markdown",
      "source": [
        "5:09 결과 \n",
        "테스트 1,3,8,14 실패(런타임 에러), 효율성 모두 시간초과\n",
        "-> 큐 구조로 짜서 시간초과가 났다고 보인다.  \n",
        "-> 일단 예외처리를 안해서 그럴수 있으니 -1 예외처리 포함시켜서 돌려보기"
      ],
      "metadata": {
        "id": "3jr2jYwxI7y6"
      }
    },
    {
      "cell_type": "code",
      "source": [
        "def solution(scoville, K):\n",
        "    scov_sorted = sorted(scoville)\n",
        "    answer = 0\n",
        "    while min(scov_sorted) < K:\n",
        "        \n",
        "        scov = scov_sorted.pop(0) + (scov_sorted.pop(0)*2)\n",
        "        print(scov)\n",
        "        scov_sorted.append(scov)\n",
        "        scov_sorted = sorted(scov_sorted)\n",
        "        answer += 1\n",
        "\n",
        "    return answer\n",
        "solution(scoville, K)"
      ],
      "metadata": {
        "colab": {
          "base_uri": "https://localhost:8080/"
        },
        "id": "OH_uThzJGgnl",
        "outputId": "0cc90e90-16fd-423a-d489-465277e9210a"
      },
      "execution_count": null,
      "outputs": [
        {
          "output_type": "stream",
          "name": "stdout",
          "text": [
            "5\n",
            "13\n"
          ]
        },
        {
          "output_type": "execute_result",
          "data": {
            "text/plain": [
              "2"
            ]
          },
          "metadata": {},
          "execution_count": 26
        }
      ]
    },
    {
      "cell_type": "markdown",
      "source": [
        "5:20 결과 테스트 6,9-13 실패, 효율성 모두 시간초과"
      ],
      "metadata": {
        "id": "SS0izJj-MHae"
      }
    },
    {
      "cell_type": "code",
      "source": [
        "def solution(scoville, K):\n",
        "    scov_sorted = sorted(scoville)\n",
        "    answer = 0\n",
        "    if (scov_sorted[-1] + scov_sorted[-2] < K) and sum(scov_sorted) < K:\n",
        "        return -1\n",
        "    else : \n",
        "        while min(scov_sorted) < K:\n",
        "            \n",
        "            scov = scov_sorted.pop(0) + (scov_sorted.pop(0)*2)\n",
        "            print(scov)\n",
        "            scov_sorted.append(scov)\n",
        "            scov_sorted = sorted(scov_sorted)\n",
        "            answer += 1\n",
        "\n",
        "        return answer\n",
        "solution(scoville, K)"
      ],
      "metadata": {
        "id": "fLf4BT5hKj7E"
      },
      "execution_count": null,
      "outputs": []
    },
    {
      "cell_type": "code",
      "source": [
        "def solution(scoville, K):\n",
        "    scov_sorted = sorted(scoville)\n",
        "    answer = 0\n",
        "    if sum(scov_sorted) < K or sum(scov_sorted *2) < K:\n",
        "        return -1\n",
        "    else : \n",
        "        while min(scov_sorted) < K:\n",
        "            \n",
        "            scov = scov_sorted.pop(0) + (scov_sorted.pop(0)*2)\n",
        "            # print(scov)\n",
        "            scov_sorted.append(scov)\n",
        "            scov_sorted = sorted(scov_sorted)\n",
        "            answer += 1\n",
        "\n",
        "        return answer\n",
        "solution(scoville, K)"
      ],
      "metadata": {
        "colab": {
          "base_uri": "https://localhost:8080/"
        },
        "id": "nbsfyWLhNdLT",
        "outputId": "9faf7142-2620-4543-a60e-a1c5f63e573d"
      },
      "execution_count": null,
      "outputs": [
        {
          "output_type": "stream",
          "name": "stdout",
          "text": [
            "5\n",
            "13\n"
          ]
        },
        {
          "output_type": "execute_result",
          "data": {
            "text/plain": [
              "2"
            ]
          },
          "metadata": {},
          "execution_count": 31
        }
      ]
    },
    {
      "cell_type": "markdown",
      "source": [
        "6:00 힙구조로 다시 짜기 시작"
      ],
      "metadata": {
        "id": "7ee2iFJdU4Wc"
      }
    },
    {
      "cell_type": "markdown",
      "source": [
        "6:10 포기 답보기 시작"
      ],
      "metadata": {
        "id": "qEqrObXDXmyM"
      }
    },
    {
      "cell_type": "markdown",
      "source": [
        "댓글을 보니 deque를 사용해서도 풀수 있었을 것"
      ],
      "metadata": {
        "id": "c5zkTqrKXrZm"
      }
    },
    {
      "cell_type": "code",
      "source": [
        "import heapq\n",
        "\n",
        "\n",
        "def solution(scoville, k):\n",
        "    heap = []\n",
        "    for num in scoville:\n",
        "        heapq.heappush(heap, num)\n",
        "\n",
        "    mix_cnt = 0\n",
        "    while heap[0] < k:\n",
        "        try:\n",
        "            heapq.heappush(heap, heapq.heappop(heap) + (heapq.heappop(heap) * 2))\n",
        "        except IndexError:\n",
        "            return -1\n",
        "        mix_cnt += 1\n",
        "\n",
        "    return mix_cnt\n",
        "solution(scoville, K)"
      ],
      "metadata": {
        "colab": {
          "base_uri": "https://localhost:8080/"
        },
        "id": "0hWaCLQXVXPd",
        "outputId": "94b166df-3caa-415d-81ff-342daa0c1c87"
      },
      "execution_count": null,
      "outputs": [
        {
          "output_type": "execute_result",
          "data": {
            "text/plain": [
              "[9, 12, 10, 13]"
            ]
          },
          "metadata": {},
          "execution_count": 43
        }
      ]
    },
    {
      "cell_type": "markdown",
      "source": [
        "# 디스크 컨트롤러"
      ],
      "metadata": {
        "id": "f0clmqutgeR9"
      }
    },
    {
      "cell_type": "markdown",
      "source": [
        "테스트 20만 통과 코드"
      ],
      "metadata": {
        "id": "6wNVcRcpoBTw"
      }
    },
    {
      "cell_type": "code",
      "source": [
        "jobs = [[0, 3], [1, 9], [2, 6]]\n",
        "import heapq\n",
        "def solution(jobs):\n",
        "    heaps = [i[1] for i in jobs]\n",
        "    heapq.heapify(heaps)\n",
        "\n",
        "\n",
        "    time = 0\n",
        "    task = 0\n",
        "    while heaps:\n",
        "        pop = heapq.heappop(heaps)\n",
        "        time += pop\n",
        "        for i in jobs:\n",
        "            if i[1] == pop:\n",
        "                task += time - i[0]\n",
        "\n",
        "\n",
        "    answer = task/len(jobs)\n",
        "    return answer\n",
        "solution(jobs)"
      ],
      "metadata": {
        "colab": {
          "base_uri": "https://localhost:8080/",
          "height": 331
        },
        "id": "wZo90d3ggPOC",
        "outputId": "a9890f61-5a4c-48d1-d268-761338a19fff"
      },
      "execution_count": null,
      "outputs": [
        {
          "output_type": "error",
          "ename": "NameError",
          "evalue": "ignored",
          "traceback": [
            "\u001b[0;31m---------------------------------------------------------------------------\u001b[0m",
            "\u001b[0;31mNameError\u001b[0m                                 Traceback (most recent call last)",
            "\u001b[0;32m<ipython-input-74-459aa65a260b>\u001b[0m in \u001b[0;36m<module>\u001b[0;34m()\u001b[0m\n\u001b[1;32m     18\u001b[0m     \u001b[0manswer\u001b[0m \u001b[0;34m=\u001b[0m \u001b[0mtask\u001b[0m\u001b[0;34m/\u001b[0m\u001b[0mlen\u001b[0m\u001b[0;34m(\u001b[0m\u001b[0mjobs\u001b[0m\u001b[0;34m)\u001b[0m\u001b[0;34m\u001b[0m\u001b[0;34m\u001b[0m\u001b[0m\n\u001b[1;32m     19\u001b[0m     \u001b[0;32mreturn\u001b[0m \u001b[0manswer\u001b[0m\u001b[0;34m\u001b[0m\u001b[0;34m\u001b[0m\u001b[0m\n\u001b[0;32m---> 20\u001b[0;31m \u001b[0msolution\u001b[0m\u001b[0;34m(\u001b[0m\u001b[0mjobs\u001b[0m\u001b[0;34m)\u001b[0m\u001b[0;34m\u001b[0m\u001b[0;34m\u001b[0m\u001b[0m\n\u001b[0m",
            "\u001b[0;32m<ipython-input-74-459aa65a260b>\u001b[0m in \u001b[0;36msolution\u001b[0;34m(jobs)\u001b[0m\n\u001b[1;32m     14\u001b[0m             \u001b[0mtime\u001b[0m \u001b[0;34m+=\u001b[0m \u001b[0mpop\u001b[0m\u001b[0;34m\u001b[0m\u001b[0;34m\u001b[0m\u001b[0m\n\u001b[1;32m     15\u001b[0m             \u001b[0mj\u001b[0m \u001b[0;34m=\u001b[0m \u001b[0;36m0\u001b[0m\u001b[0;34m\u001b[0m\u001b[0;34m\u001b[0m\u001b[0m\n\u001b[0;32m---> 16\u001b[0;31m             \u001b[0mtask\u001b[0m \u001b[0;34m+=\u001b[0m \u001b[0mtime\u001b[0m \u001b[0;34m-\u001b[0m \u001b[0mi\u001b[0m\u001b[0;34m[\u001b[0m\u001b[0;36m0\u001b[0m\u001b[0;34m]\u001b[0m\u001b[0;34m\u001b[0m\u001b[0;34m\u001b[0m\u001b[0m\n\u001b[0m\u001b[1;32m     17\u001b[0m \u001b[0;34m\u001b[0m\u001b[0m\n\u001b[1;32m     18\u001b[0m     \u001b[0manswer\u001b[0m \u001b[0;34m=\u001b[0m \u001b[0mtask\u001b[0m\u001b[0;34m/\u001b[0m\u001b[0mlen\u001b[0m\u001b[0;34m(\u001b[0m\u001b[0mjobs\u001b[0m\u001b[0;34m)\u001b[0m\u001b[0;34m\u001b[0m\u001b[0;34m\u001b[0m\u001b[0m\n",
            "\u001b[0;31mNameError\u001b[0m: name 'i' is not defined"
          ]
        }
      ]
    },
    {
      "cell_type": "markdown",
      "source": [
        "다른사람 풀이참조 -> 실패"
      ],
      "metadata": {
        "id": "PpnfnriwueFi"
      }
    },
    {
      "cell_type": "code",
      "source": [
        "jobs = [[0, 3], [1, 9], [2, 6]]\n",
        "import heapq\n",
        "def solution(jobs):\n",
        "    heaps = [i[1] for i in jobs]\n",
        "    # heapq.heapify(heaps)\n",
        "    heaps = sorted(jobs, key=lambda x: x[1])  # 소요시간 우선 정렬\n",
        "    length = len(jobs)\n",
        "\n",
        "    time = 0 # 작업진행중인 시간\n",
        "    task = 0 # 작업걸린 시간\n",
        "    while heaps:\n",
        "        # pop = heapq.heappop(heaps)\n",
        "        # time += pop\n",
        "        for i in range(len(heaps)):\n",
        "            # 해당 작업이 들어온 시간이 현재 시간보다 이를때\n",
        "            if heaps[i][0] <= time:\n",
        "                time += heaps[i][1]\n",
        "                task += time - heaps[i][0]\n",
        "                # 해당 작업은 사라진다.\n",
        "                heaps.pop(0)\n",
        "                break\n",
        "            # 현재 시점에 아직 작업이 들어오진 않았다면 시간이 흐른다.\n",
        "            if i == len(heaps) - 1:\n",
        "                time += 1\n",
        "                break\n",
        "\n",
        "\n",
        "    answer = task//length\n",
        "    return answer\n",
        "solution(jobs)"
      ],
      "metadata": {
        "colab": {
          "base_uri": "https://localhost:8080/"
        },
        "id": "zi5_zC86yGvs",
        "outputId": "2b919467-f586-454c-c397-0cf803446b33"
      },
      "execution_count": null,
      "outputs": [
        {
          "output_type": "execute_result",
          "data": {
            "text/plain": [
              "9"
            ]
          },
          "metadata": {},
          "execution_count": 82
        }
      ]
    },
    {
      "cell_type": "markdown",
      "source": [
        "다른사람 풀이 답안"
      ],
      "metadata": {
        "id": "qFae62qF8dub"
      }
    },
    {
      "cell_type": "code",
      "source": [
        "def solution(jobs):\n",
        "    answer = 0\n",
        "    start = 0  # 현재까지 진행된 작업 시간\n",
        "    length = len(jobs)\n",
        "\n",
        "    jobs = sorted(jobs, key=lambda x: x[1])  # 소요시간 우선 정렬\n",
        "\n",
        "    while len(jobs) != 0:\n",
        "        for i in range(len(jobs)):\n",
        "            # 해당 작업이 들어온 시간이 현재 시간보다 이를때\n",
        "            if jobs[i][0] <= start:\n",
        "                start += jobs[i][1]\n",
        "                answer += start - jobs[i][0]\n",
        "                # 해당 작업은 사라진다.\n",
        "                jobs.pop(i)\n",
        "                break\n",
        "            # 해당시점에 아직 작업이 들어오지 않았으면 시간 ++\n",
        "            if i == len(jobs) - 1:\n",
        "                start += 1\n",
        "\n",
        "    return answer // length"
      ],
      "metadata": {
        "id": "ASOISzS78hLF"
      },
      "execution_count": null,
      "outputs": []
    },
    {
      "cell_type": "code",
      "source": [
        "import heapq\n",
        "def solution(jobs):\n",
        "    # 작업의 갯수\n",
        "    length = len(jobs)\n",
        "    answer, now, i = 0,0,0\n",
        "    # 이전 작업의 시작시간\n",
        "    start = -1\n",
        "    heap = []\n",
        "\n",
        "    while i < lenght:\n",
        "        for job in jobs:\n",
        "\n",
        "            if start < job[0] <= now:\n",
        "                heapq.heappush(heap,[job[1],job[0]])\n",
        "        \n",
        "        if len(heap) > 0:\n",
        "            current = heapq.heappop(heap)\n",
        "            start = now\n",
        "            # 작업한만큼 시간을 더해준다.\n",
        "            now += current[0]\n",
        "            # 작업한 시간\n",
        "            answer += (now - current[1])\n",
        "\n",
        "            i += 1\n",
        "        else:\n",
        "            now += 1\n",
        "    return int(answer / length)\n",
        "            "
      ],
      "metadata": {
        "id": "uxapDE_r98sv"
      },
      "execution_count": null,
      "outputs": []
    },
    {
      "cell_type": "markdown",
      "source": [
        "# 이중우선큐"
      ],
      "metadata": {
        "id": "iXzXPicn3BmB"
      }
    },
    {
      "cell_type": "code",
      "source": [
        "from collections import deque\n",
        "import heapq\n",
        "def solution(operations):\n",
        "    \n",
        "    answer = []\n",
        "    li = list()\n",
        "    i = 0\n",
        "    heapq.heapify(li)\n",
        "    while i < len(operations):\n",
        "        if 'I' in operations[i]:\n",
        "\n",
        "            heapq.heappush(li,int(operations[i].split(\" \")[1]))\n",
        "        elif 'D -1' == operations[i]:\n",
        "            try:\n",
        "                heapq.heappop(li)\n",
        "            except:\n",
        "                pass\n",
        "        elif 'D 1' == operations[i]:\n",
        "            try:\n",
        "                li.pop(-1)\n",
        "            except:\n",
        "                pass  \n",
        "        i +=1\n",
        "    if li:\n",
        "        answer.append([max(li),min(li)])\n",
        "\n",
        "    else:\n",
        "        answer.append([0,0])\n",
        "\n",
        "        \n",
        "        \n",
        "    \n",
        "    return answer[0]"
      ],
      "metadata": {
        "id": "3lTLC5rT3D2T"
      },
      "execution_count": 3,
      "outputs": []
    },
    {
      "cell_type": "code",
      "source": [
        ""
      ],
      "metadata": {
        "id": "AjsAjBEzMqLu"
      },
      "execution_count": null,
      "outputs": []
    }
  ]
}
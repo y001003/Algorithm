{
  "nbformat": 4,
  "nbformat_minor": 0,
  "metadata": {
    "colab": {
      "name": "백준_그리디.ipynb",
      "provenance": [],
      "authorship_tag": "ABX9TyOJtpPVPyXdK2IaQqac4DPr",
      "include_colab_link": true
    },
    "kernelspec": {
      "name": "python3",
      "display_name": "Python 3"
    },
    "language_info": {
      "name": "python"
    }
  },
  "cells": [
    {
      "cell_type": "markdown",
      "metadata": {
        "id": "view-in-github",
        "colab_type": "text"
      },
      "source": [
        "<a href=\"https://colab.research.google.com/github/y001003/Algorithm/blob/main/%EB%B0%B1%EC%A4%80_%EA%B7%B8%EB%A6%AC%EB%94%94.ipynb\" target=\"_parent\"><img src=\"https://colab.research.google.com/assets/colab-badge.svg\" alt=\"Open In Colab\"/></a>"
      ]
    },
    {
      "cell_type": "markdown",
      "source": [
        "https://www.acmicpc.net/problem/11047\n"
      ],
      "metadata": {
        "id": "b1op2yabNPUL"
      }
    },
    {
      "cell_type": "code",
      "execution_count": 9,
      "metadata": {
        "colab": {
          "base_uri": "https://localhost:8080/"
        },
        "id": "4QxJIweBNLrE",
        "outputId": "f143776f-b6d9-4c96-9a8d-7d011926d6be"
      },
      "outputs": [
        {
          "output_type": "stream",
          "name": "stdout",
          "text": [
            "10 4200\n",
            "1\n",
            "5\n",
            "840\n",
            "10\n",
            "420\n",
            "420\n",
            "50\n",
            "84\n",
            "84\n",
            "84\n",
            "100\n",
            "42\n",
            "42\n",
            "42\n",
            "42\n",
            "500\n",
            "8\n",
            "10\n",
            "10\n",
            "10\n",
            "10\n",
            "1000\n",
            "4\n",
            "4\n",
            "6\n",
            "6\n",
            "6\n",
            "6\n",
            "5000\n",
            "7\n"
          ]
        }
      ],
      "source": [
        "# 내답 시간초과\n",
        "N,K = map(int, input().split())\n",
        "\n",
        "\n",
        "coins = []\n",
        "\n",
        "for i in range(N):\n",
        "    coins.append(int(input()))\n",
        "    coins = sorted(coins, reverse=True)\n",
        "    \n",
        "    if coins[0] > K:\n",
        "        break\n",
        "    money = 0\n",
        "    count = 0\n",
        "    j = 0\n",
        "    while money <= K:\n",
        "        money += coins[j]\n",
        "        count += 1\n",
        "        # print('count',count)\n",
        "        if (money > K) & (len(coins[j:]) != 1):\n",
        "            money -= coins[j]\n",
        "            j += 1\n",
        "            count -= 1\n",
        "            print(count)\n",
        "            \n",
        "    \n",
        "print(count-1)    "
      ]
    },
    {
      "cell_type": "code",
      "source": [
        "import sys\n",
        "input = sys.stdin.readline\n",
        "\n",
        "N, K = map(int, input().split())\n",
        "coins = [int(input()) for _ in range(N)]\n",
        "coins.sort(reverse=True)\n",
        "\n",
        "count = 0\n",
        "for coin in coins:\n",
        "    if K >= coin:\n",
        "        count += K // coin\n",
        "        K %= coin\n",
        "        if K == 0:\n",
        "            break"
      ],
      "metadata": {
        "id": "Hd38Sfg5R0OK"
      },
      "execution_count": null,
      "outputs": []
    },
    {
      "cell_type": "markdown",
      "source": [
        "https://www.acmicpc.net/problem/11399\n"
      ],
      "metadata": {
        "id": "_w5YjgIPUaoP"
      }
    },
    {
      "cell_type": "code",
      "source": [
        "N = int(input())\n",
        "times = list(map(int, input().split()))\n",
        "\n",
        "sum = 0\n",
        "times = sorted(times)\n",
        "for i in range(len(times)):\n",
        "    temp = 0\n",
        "    for time in times[:i+1]:\n",
        "        temp += time\n",
        "    sum += temp\n",
        "print(sum)"
      ],
      "metadata": {
        "colab": {
          "base_uri": "https://localhost:8080/"
        },
        "id": "vX8dPDQ8Ubt8",
        "outputId": "3a541134-6be0-4377-e9b8-921b09dcb2f2"
      },
      "execution_count": 12,
      "outputs": [
        {
          "output_type": "stream",
          "name": "stdout",
          "text": [
            "5\n",
            "3 1 4 3 2\n",
            "32\n"
          ]
        }
      ]
    },
    {
      "cell_type": "markdown",
      "source": [
        "https://www.acmicpc.net/problem/13305"
      ],
      "metadata": {
        "id": "CgJZhM7PaKe5"
      }
    },
    {
      "cell_type": "code",
      "source": [
        "N = int(input())\n",
        "distances = list(map(int, input().split()))\n",
        "prices = list(map(int, input().split()))\n",
        "\n",
        "oil_price = 0\n",
        "\n",
        "\n",
        "middle_distance = sorted(prices[1:-1])\n",
        "oil_price += distances[0] * prices[0]\n",
        "\n",
        "min_price = prices[0]\n",
        "# oil_price += sum( distances[1:] ) * middle_distance[0]\n",
        "for index in range(1, N-1):\n",
        "    if min_price > prices[index]:\n",
        "        min_price = prices[index]\n",
        "\n",
        "    oil_price += distances[index] * min_price\n",
        "\n",
        "\n",
        "print(oil_price)\n",
        "\n",
        "\n"
      ],
      "metadata": {
        "colab": {
          "base_uri": "https://localhost:8080/"
        },
        "id": "qGXIF0q8aLU_",
        "outputId": "0fd57782-a7d3-467e-9675-41cc5b052583"
      },
      "execution_count": 1,
      "outputs": [
        {
          "output_type": "stream",
          "name": "stdout",
          "text": [
            "4\n",
            "2 3 1\n",
            "5 2 4 1\n",
            "18\n"
          ]
        }
      ]
    }
  ]
}
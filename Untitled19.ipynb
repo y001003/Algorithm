{
  "nbformat": 4,
  "nbformat_minor": 0,
  "metadata": {
    "colab": {
      "name": "Untitled19.ipynb",
      "provenance": [],
      "authorship_tag": "ABX9TyOB3Ym8X5wCNn/LUaYx7Kz6",
      "include_colab_link": true
    },
    "kernelspec": {
      "name": "python3",
      "display_name": "Python 3"
    },
    "language_info": {
      "name": "python"
    }
  },
  "cells": [
    {
      "cell_type": "markdown",
      "metadata": {
        "id": "view-in-github",
        "colab_type": "text"
      },
      "source": [
        "<a href=\"https://colab.research.google.com/github/y001003/Algorithm/blob/main/Untitled19.ipynb\" target=\"_parent\"><img src=\"https://colab.research.google.com/assets/colab-badge.svg\" alt=\"Open In Colab\"/></a>"
      ]
    },
    {
      "cell_type": "code",
      "execution_count": 11,
      "metadata": {
        "colab": {
          "base_uri": "https://localhost:8080/"
        },
        "id": "IrVhoI8a59H-",
        "outputId": "79e4011d-e2c3-4a2d-a350-5ec5be145137"
      },
      "outputs": [
        {
          "output_type": "stream",
          "name": "stdout",
          "text": [
            "4 5\n",
            "0 0 1 1 0\n",
            "0 0 0 1 1\n",
            "1 1 1 1 1\n",
            "0 0 0 0 0\n",
            "3\n"
          ]
        }
      ],
      "source": [
        "# n과 m 입력값 받기\n",
        "N, M = map(int, input().split())\n",
        "# 2차원 리스트 맵 정보 받기\n",
        "data = []\n",
        "for i in range(N):\n",
        "    data.append(list(map(int, input().split())))\n",
        "\n",
        "def ice(data, n, m) :\n",
        "    if n < 0 or m <0 or n >= N or m >= M:\n",
        "        return False\n",
        "    if data[n][m] == 0:\n",
        "\n",
        "        data[n][m] = 1\n",
        "        ice(data,n+1,m)\n",
        "        ice(data,n-1,m)\n",
        "        ice(data,n,m+1)\n",
        "        ice(data,n,m-1)\n",
        "\n",
        "        return True\n",
        "    return False\n",
        "\n",
        "result = 0\n",
        "\n",
        "for i in range(N):\n",
        "    for j in range(M):\n",
        "        if ice(data, i, j) == True:\n",
        "            result +=1\n",
        "\n",
        "print(result)\n",
        "\n",
        "\n"
      ]
    },
    {
      "cell_type": "code",
      "source": [
        "from collections import deque\n",
        "# 입력 데이터\n",
        "n, m = map(int,input().split())\n",
        "data= []\n",
        "for i in range(n):\n",
        "    data.append(list(map(int,input().split())))\n",
        "def escape(data, x,y):\n",
        "    queue = deque()\n",
        "    queue.append((x,y))\n",
        "\n",
        "    \n",
        "    len = 0\n",
        "    while queue :\n",
        "        # print(\"queue:\",queue)\n",
        "        x, y = queue.popleft()\n",
        "        \n",
        "        \n",
        "        for i in range(4):\n",
        "            nx = x + dx[i]\n",
        "            ny = y + dy[i]\n",
        "            \n",
        "        \n",
        "            if nx <0 or ny <0 or nx >= n or ny >= m:\n",
        "                continue\n",
        "            \n",
        "            if data[nx][ny] ==0:\n",
        "                continue\n",
        "            \n",
        "            if data[nx][ny] ==1:\n",
        "                data[nx][ny] = data[x][y] + 1\n",
        "                queue.append((nx, ny))\n",
        "                # print(nx, ny)\n",
        "    return data[n-1][m-1]\n",
        "\n",
        "\n",
        "dx = [-1, 1, 0, 0]\n",
        "dy = [0, 0, -1, 1]\n",
        "\n",
        "\n",
        "\n",
        "escape(data,0,0)\n",
        "\n",
        "\n",
        "print(escape(data,0,0))\n",
        "print(data)\n",
        "    "
      ],
      "metadata": {
        "colab": {
          "base_uri": "https://localhost:8080/"
        },
        "id": "JeReUtQVBHVN",
        "outputId": "147ceda5-d9d7-41a9-d5f3-f67306a8238a"
      },
      "execution_count": 27,
      "outputs": [
        {
          "output_type": "stream",
          "name": "stdout",
          "text": [
            "5 6\n",
            "1 0 1 0 1 0\n",
            "1 1 1 1 1 1\n",
            "0 0 0 0 0 1\n",
            "1 1 1 1 1 1\n",
            "1 1 1 1 1 1\n",
            "queue: deque([(0, 0)])\n",
            "1 0\n",
            "queue: deque([(1, 0)])\n",
            "0 0\n",
            "1 1\n",
            "queue: deque([(0, 0), (1, 1)])\n",
            "queue: deque([(1, 1)])\n",
            "1 2\n",
            "queue: deque([(1, 2)])\n",
            "0 2\n",
            "1 3\n",
            "queue: deque([(0, 2), (1, 3)])\n",
            "queue: deque([(1, 3)])\n",
            "1 4\n",
            "queue: deque([(1, 4)])\n",
            "0 4\n",
            "1 5\n",
            "queue: deque([(0, 4), (1, 5)])\n",
            "queue: deque([(1, 5)])\n",
            "2 5\n",
            "queue: deque([(2, 5)])\n",
            "3 5\n",
            "queue: deque([(3, 5)])\n",
            "4 5\n",
            "3 4\n",
            "queue: deque([(4, 5), (3, 4)])\n",
            "4 4\n",
            "queue: deque([(3, 4), (4, 4)])\n",
            "3 3\n",
            "queue: deque([(4, 4), (3, 3)])\n",
            "4 3\n",
            "queue: deque([(3, 3), (4, 3)])\n",
            "3 2\n",
            "queue: deque([(4, 3), (3, 2)])\n",
            "4 2\n",
            "queue: deque([(3, 2), (4, 2)])\n",
            "3 1\n",
            "queue: deque([(4, 2), (3, 1)])\n",
            "4 1\n",
            "queue: deque([(3, 1), (4, 1)])\n",
            "3 0\n",
            "queue: deque([(4, 1), (3, 0)])\n",
            "4 0\n",
            "queue: deque([(3, 0), (4, 0)])\n",
            "queue: deque([(4, 0)])\n",
            "queue: deque([(0, 0)])\n",
            "10\n",
            "[[3, 0, 5, 0, 7, 0], [2, 3, 4, 5, 6, 7], [0, 0, 0, 0, 0, 8], [14, 13, 12, 11, 10, 9], [15, 14, 13, 12, 11, 10]]\n"
          ]
        }
      ]
    }
  ]
}
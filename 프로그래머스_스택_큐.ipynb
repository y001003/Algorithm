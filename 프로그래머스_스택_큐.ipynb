{
  "nbformat": 4,
  "nbformat_minor": 0,
  "metadata": {
    "colab": {
      "name": "프로그래머스 스택 큐.ipynb",
      "provenance": [],
      "collapsed_sections": [],
      "authorship_tag": "ABX9TyNlsUS3YHsIxxQHFeXWDo80",
      "include_colab_link": true
    },
    "kernelspec": {
      "name": "python3",
      "display_name": "Python 3"
    },
    "language_info": {
      "name": "python"
    }
  },
  "cells": [
    {
      "cell_type": "markdown",
      "metadata": {
        "id": "view-in-github",
        "colab_type": "text"
      },
      "source": [
        "<a href=\"https://colab.research.google.com/github/y001003/Algorithm/blob/main/%ED%94%84%EB%A1%9C%EA%B7%B8%EB%9E%98%EB%A8%B8%EC%8A%A4_%EC%8A%A4%ED%83%9D_%ED%81%90.ipynb\" target=\"_parent\"><img src=\"https://colab.research.google.com/assets/colab-badge.svg\" alt=\"Open In Colab\"/></a>"
      ]
    },
    {
      "cell_type": "markdown",
      "source": [
        "# 1. 기능개발 \n",
        "\n",
        "시작시간 10:52\n",
        "\n",
        "첫번째 시도 11:27 | 테스트 1,5,6,11 통과  \n"
      ],
      "metadata": {
        "id": "v05a4BPMtJzZ"
      }
    },
    {
      "cell_type": "markdown",
      "source": [
        "def solution(progresses, speeds):\n",
        "    answer = []\n",
        "    # progress = [95,90,99,99,80,99]\n",
        "    # speed = [1,1,1,1,1,1]\n",
        "    days = 0\n",
        "    done_day = [0] * len(progresses)\n",
        "    for i in range(len(progresses)):\n",
        "        days = 0\n",
        "        while progresses[i] < 100:\n",
        "            progresses[i] += speeds[i]\n",
        "            days += 1\n",
        "\n",
        "        done_day[i] = days\n",
        "\n",
        "\n",
        "    # print(done_day)\n",
        "    # answer = []\n",
        "    for i in range(len(done_day)):\n",
        "        count = 0\n",
        "        for j in done_day[i:]:\n",
        "            if j <= done_day[i]:\n",
        "                count +=1\n",
        "            elif j > done_day[i]:\n",
        "                break\n",
        "        answer.append(count)\n",
        "        if sum(answer) == len(done_day):\n",
        "            break\n",
        "    return answer"
      ],
      "metadata": {
        "id": "zfrf7OEG3dpN"
      }
    },
    {
      "cell_type": "markdown",
      "source": [
        "2번째 시도 11:45 통과"
      ],
      "metadata": {
        "id": "8oGHhbNJ3g4s"
      }
    },
    {
      "cell_type": "code",
      "source": [
        "progresses = [2, 2, 2, 2, 1, 2]\n",
        "speeds = [1,1,1,1,1,1]\n",
        "days = 0\n",
        "done_day = [0] * len(progresses)\n",
        "\n",
        "for i in range(len(progresses)):\n",
        "    days = 0\n",
        "    while progresses[i] < 100:\n",
        "        progresses[i] += speeds[i]\n",
        "        days += 1\n",
        "\n",
        "    done_day[i] = days\n",
        "\n",
        "\n",
        "print(done_day)\n",
        "answer = []\n",
        "idx = 0\n",
        "for i in range(len(done_day)):\n",
        "    count = 0\n",
        "    for j in done_day[idx:]:\n",
        "        if j <= done_day[idx]:\n",
        "            count +=1\n",
        "        elif j > done_day[idx]:\n",
        "            break\n",
        "    answer.append(count)\n",
        "    idx = sum(answer)\n",
        "    if sum(answer) == len(done_day):\n",
        "        break\n",
        "answer"
      ],
      "metadata": {
        "colab": {
          "base_uri": "https://localhost:8080/"
        },
        "id": "ybCyGi-UtW4y",
        "outputId": "c9c3a6a1-fa94-4d05-cb66-0e0ee2ca0c7a"
      },
      "execution_count": null,
      "outputs": [
        {
          "output_type": "stream",
          "name": "stdout",
          "text": [
            "[98, 98, 98, 98, 99, 98]\n"
          ]
        },
        {
          "output_type": "execute_result",
          "data": {
            "text/plain": [
              "[4, 2]"
            ]
          },
          "metadata": {},
          "execution_count": 24
        }
      ]
    },
    {
      "cell_type": "code",
      "source": [
        "# 다른사람 풀이\n",
        "def solution(progresses, speeds):\n",
        "    print(progresses)\n",
        "    print(speeds)\n",
        "    answer = []\n",
        "    time = 0\n",
        "    count = 0\n",
        "    while len(progresses)> 0:\n",
        "        if (progresses[0] + time*speeds[0]) >= 100:\n",
        "            progresses.pop(0)\n",
        "            speeds.pop(0)\n",
        "            count += 1\n",
        "        else:\n",
        "            if count > 0:\n",
        "                answer.append(count)\n",
        "                count = 0\n",
        "            time += 1\n",
        "    answer.append(count)\n",
        "    return answer"
      ],
      "metadata": {
        "id": "FjUhwk4T6jSV"
      },
      "execution_count": null,
      "outputs": []
    },
    {
      "cell_type": "markdown",
      "source": [
        "# 2번 프린터\n",
        "\n",
        "12:33시작\n",
        "13:25 실패판정"
      ],
      "metadata": {
        "id": "RG8klAKW6k78"
      }
    },
    {
      "cell_type": "code",
      "source": [
        "def solution(priorities, location):\n",
        "    answer = 0\n",
        "    return answer"
      ],
      "metadata": {
        "id": "pt5npUxrEZMw"
      },
      "execution_count": null,
      "outputs": []
    },
    {
      "cell_type": "code",
      "source": [
        "priorities = [2, 1, 3, 2]\n",
        "a = priorities.copy()\n",
        "location = 2\n",
        "\n",
        "# p = enumerate(priorities)\n",
        "# for idx, value in p :\n",
        "#     print(idx, value)\n",
        "order = []\n",
        "for i in range(len(priorities)):\n",
        "    temp = a[i]\n",
        "    if temp != max(priorities):\n",
        "        append = a[i]\n",
        "        order.append(append)\n",
        "    else:\n",
        "        # pop = priorities.pop(i)\n",
        "        order.insert(0,pop)\n",
        "        print(temp)\n",
        "print(order)"
      ],
      "metadata": {
        "colab": {
          "base_uri": "https://localhost:8080/"
        },
        "id": "FC0FybKtFDK0",
        "outputId": "8d731c1b-07b6-4242-de72-5e376d58b860"
      },
      "execution_count": null,
      "outputs": [
        {
          "output_type": "stream",
          "name": "stdout",
          "text": [
            "3\n",
            "[3, 2, 1, 2]\n"
          ]
        }
      ]
    },
    {
      "cell_type": "code",
      "source": [
        "priorities = [2, 1, 3, 4]\n",
        "dic = {}\n",
        "for i in range(len(priorities)):\n",
        "    dic[i] = priorities[i]\n",
        "print(dic.values())\n",
        "for i in range(len(priorities)):\n",
        "    temp = priorities.pop(0)\n",
        "    if temp >= max(priorities):\n",
        "        priorities.insert(0,temp)\n",
        "    else:\n",
        "        priorities.insert(len(priorities),temp)\n",
        "\n",
        "priorities\n"
      ],
      "metadata": {
        "colab": {
          "base_uri": "https://localhost:8080/"
        },
        "id": "SKIbLdy4LBa_",
        "outputId": "01edb333-3832-4edd-d97e-3f8403d82c4a"
      },
      "execution_count": null,
      "outputs": [
        {
          "output_type": "stream",
          "name": "stdout",
          "text": [
            "dict_values([2, 1, 3, 4])\n"
          ]
        },
        {
          "output_type": "execute_result",
          "data": {
            "text/plain": [
              "[4, 2, 1, 3]"
            ]
          },
          "metadata": {},
          "execution_count": 69
        }
      ]
    },
    {
      "cell_type": "code",
      "source": [
        "priorities = [2, 1, 3, 4]\n",
        "dic = {}\n",
        "for i in range(len(priorities)):\n",
        "    dic[i] = priorities[i]\n",
        "print(dic.values())\n",
        "order = []\n",
        "while len(priorities) > 1:\n",
        "    max = max(priorities)\n",
        "    temp = priorities.pop(0)\n",
        "    if temp >= max:\n",
        "        order.insert(0,temp)\n",
        "    else:\n",
        "        order.insert(len(priorities),temp)\n",
        "\n",
        "order"
      ],
      "metadata": {
        "colab": {
          "base_uri": "https://localhost:8080/",
          "height": 254
        },
        "id": "rMx8mlU3Ondy",
        "outputId": "fc5ded73-6197-438a-815c-cd0d2b75b58f"
      },
      "execution_count": null,
      "outputs": [
        {
          "output_type": "stream",
          "name": "stdout",
          "text": [
            "dict_values([2, 1, 3, 4])\n"
          ]
        },
        {
          "output_type": "error",
          "ename": "TypeError",
          "evalue": "ignored",
          "traceback": [
            "\u001b[0;31m---------------------------------------------------------------------------\u001b[0m",
            "\u001b[0;31mTypeError\u001b[0m                                 Traceback (most recent call last)",
            "\u001b[0;32m<ipython-input-1-b73766c00a1e>\u001b[0m in \u001b[0;36m<module>\u001b[0;34m()\u001b[0m\n\u001b[1;32m      6\u001b[0m \u001b[0morder\u001b[0m \u001b[0;34m=\u001b[0m \u001b[0;34m[\u001b[0m\u001b[0;34m]\u001b[0m\u001b[0;34m\u001b[0m\u001b[0;34m\u001b[0m\u001b[0m\n\u001b[1;32m      7\u001b[0m \u001b[0;32mwhile\u001b[0m \u001b[0mlen\u001b[0m\u001b[0;34m(\u001b[0m\u001b[0mpriorities\u001b[0m\u001b[0;34m)\u001b[0m \u001b[0;34m>\u001b[0m \u001b[0;36m1\u001b[0m\u001b[0;34m:\u001b[0m\u001b[0;34m\u001b[0m\u001b[0;34m\u001b[0m\u001b[0m\n\u001b[0;32m----> 8\u001b[0;31m     \u001b[0mmax\u001b[0m \u001b[0;34m=\u001b[0m \u001b[0mmax\u001b[0m\u001b[0;34m(\u001b[0m\u001b[0mpriorities\u001b[0m\u001b[0;34m)\u001b[0m\u001b[0;34m\u001b[0m\u001b[0;34m\u001b[0m\u001b[0m\n\u001b[0m\u001b[1;32m      9\u001b[0m     \u001b[0mtemp\u001b[0m \u001b[0;34m=\u001b[0m \u001b[0mpriorities\u001b[0m\u001b[0;34m.\u001b[0m\u001b[0mpop\u001b[0m\u001b[0;34m(\u001b[0m\u001b[0;36m0\u001b[0m\u001b[0;34m)\u001b[0m\u001b[0;34m\u001b[0m\u001b[0;34m\u001b[0m\u001b[0m\n\u001b[1;32m     10\u001b[0m     \u001b[0;32mif\u001b[0m \u001b[0mtemp\u001b[0m \u001b[0;34m>=\u001b[0m \u001b[0mmax\u001b[0m\u001b[0;34m:\u001b[0m\u001b[0;34m\u001b[0m\u001b[0;34m\u001b[0m\u001b[0m\n",
            "\u001b[0;31mTypeError\u001b[0m: 'int' object is not callable"
          ]
        }
      ]
    },
    {
      "cell_type": "markdown",
      "source": [
        "13:55 재도전 14:26 통과 다른사람 풀이 참조"
      ],
      "metadata": {
        "id": "1GOkRklfW-d2"
      }
    },
    {
      "cell_type": "code",
      "source": [
        "priorities = [2, 1, 3, 2]\n",
        "loc = [i for i in range(len(priorities))]\n",
        "i =0\n",
        "location = 2\n",
        "while i < len(priorities ) - 1 :\n",
        "    print(i, priorities,loc)\n",
        "    if priorities[i] < max(priorities[i+1:]):\n",
        "        priorities.append(priorities.pop(i))\n",
        "        loc.append(loc.pop(i))\n",
        "    else:\n",
        "        i += 1\n",
        "\n",
        "loc.index(2)+1"
      ],
      "metadata": {
        "colab": {
          "base_uri": "https://localhost:8080/"
        },
        "id": "uHvge5NTPltS",
        "outputId": "f30bb521-184d-4a8b-bfbe-e573306cfd40"
      },
      "execution_count": null,
      "outputs": [
        {
          "output_type": "stream",
          "name": "stdout",
          "text": [
            "0 [2, 1, 3, 2] [0, 1, 2, 3]\n",
            "0 [1, 3, 2, 2] [1, 2, 3, 0]\n",
            "0 [3, 2, 2, 1] [2, 3, 0, 1]\n",
            "1 [3, 2, 2, 1] [2, 3, 0, 1]\n",
            "2 [3, 2, 2, 1] [2, 3, 0, 1]\n"
          ]
        },
        {
          "output_type": "execute_result",
          "data": {
            "text/plain": [
              "1"
            ]
          },
          "metadata": {},
          "execution_count": 35
        }
      ]
    },
    {
      "cell_type": "code",
      "source": [
        "def solution(priorities, location):\n",
        "    loc = [i for i in range(len(priorities))]\n",
        "    i =0\n",
        "    \n",
        "    while i < len(priorities ) - 1 :\n",
        "        # print(i, priorities,loc)\n",
        "        if priorities[i] < max(priorities[i+1:]):\n",
        "            priorities.append(priorities.pop(i))\n",
        "            loc.append(loc.pop(i))\n",
        "        else:\n",
        "            i += 1\n",
        "\n",
        "    \n",
        "\n",
        "    return loc.index(location)+1"
      ],
      "metadata": {
        "id": "GTqQo2XMWj2R"
      },
      "execution_count": null,
      "outputs": []
    },
    {
      "cell_type": "markdown",
      "source": [
        "# 3번 다리를 지나는 트럭\n",
        "\n"
      ],
      "metadata": {
        "id": "0Zvn7g9oQfTD"
      }
    },
    {
      "cell_type": "markdown",
      "source": [
        "14:30 시작 36분... 문제 이해 불가\n",
        "\n",
        "트럭 한대가 bridge_length 1 건너는데 1초\n",
        "\n",
        "14:50 시작\n",
        "15:30 실패 해설 찾기\n"
      ],
      "metadata": {
        "id": "FH-lll9ten8o"
      }
    },
    {
      "cell_type": "code",
      "source": [
        "def solution(bridge_length, weight, truck_weights):\n",
        "    answer = 0\n",
        "    return answer"
      ],
      "metadata": {
        "id": "SjF5ezbLQo3l"
      },
      "execution_count": null,
      "outputs": []
    },
    {
      "cell_type": "code",
      "source": [
        "bridge_length, weight, truch_weights = 2, 10, [7,4,5,6]\n",
        "\n",
        "i = 0\n",
        "time = 0\n",
        "# on_bridge = []\n",
        "\n",
        "\n",
        "for i in range(len(truch_weights)):\n",
        "    print('t',i)\n",
        "    on_bridge = []\n",
        "    j=0\n",
        "    # 다리 최대 무게로 한사이클 동안 걸리는 시간\n",
        "    while True:\n",
        "\n",
        "        if sum(on_bridge) == 0:\n",
        "            on_bridge.append(truch_weights[i])\n",
        "        elif sum(on_bridge) + truch_weights[i+1] < weight:\n",
        "            on_bridge.append(truch_weights[i+1])\n",
        "        j += 1\n",
        "        time += 1\n",
        "        print(on_bridge)\n",
        "        if j == bridge_length:\n",
        "            print('break')\n",
        "            break\n",
        "    # if len(truch_weights) == 0:\n",
        "    #     break\n",
        "\n",
        "\n"
      ],
      "metadata": {
        "id": "5fwR6YKfgw9E",
        "colab": {
          "base_uri": "https://localhost:8080/",
          "height": 480
        },
        "outputId": "4af9b476-06f2-4d15-b005-ca4f86f149e5"
      },
      "execution_count": 72,
      "outputs": [
        {
          "output_type": "stream",
          "name": "stdout",
          "text": [
            "t 0\n",
            "[7]\n",
            "[7]\n",
            "break\n",
            "t 1\n",
            "[4]\n",
            "[4, 5]\n",
            "break\n",
            "t 2\n",
            "[5]\n",
            "[5]\n",
            "break\n",
            "t 3\n",
            "[6]\n"
          ]
        },
        {
          "output_type": "error",
          "ename": "IndexError",
          "evalue": "ignored",
          "traceback": [
            "\u001b[0;31m---------------------------------------------------------------------------\u001b[0m",
            "\u001b[0;31mIndexError\u001b[0m                                Traceback (most recent call last)",
            "\u001b[0;32m<ipython-input-72-be911d368600>\u001b[0m in \u001b[0;36m<module>\u001b[0;34m()\u001b[0m\n\u001b[1;32m     15\u001b[0m         \u001b[0;32mif\u001b[0m \u001b[0msum\u001b[0m\u001b[0;34m(\u001b[0m\u001b[0mon_bridge\u001b[0m\u001b[0;34m)\u001b[0m \u001b[0;34m==\u001b[0m \u001b[0;36m0\u001b[0m\u001b[0;34m:\u001b[0m\u001b[0;34m\u001b[0m\u001b[0;34m\u001b[0m\u001b[0m\n\u001b[1;32m     16\u001b[0m             \u001b[0mon_bridge\u001b[0m\u001b[0;34m.\u001b[0m\u001b[0mappend\u001b[0m\u001b[0;34m(\u001b[0m\u001b[0mtruch_weights\u001b[0m\u001b[0;34m[\u001b[0m\u001b[0mi\u001b[0m\u001b[0;34m]\u001b[0m\u001b[0;34m)\u001b[0m\u001b[0;34m\u001b[0m\u001b[0;34m\u001b[0m\u001b[0m\n\u001b[0;32m---> 17\u001b[0;31m         \u001b[0;32melif\u001b[0m \u001b[0msum\u001b[0m\u001b[0;34m(\u001b[0m\u001b[0mon_bridge\u001b[0m\u001b[0;34m)\u001b[0m \u001b[0;34m+\u001b[0m \u001b[0mtruch_weights\u001b[0m\u001b[0;34m[\u001b[0m\u001b[0mi\u001b[0m\u001b[0;34m+\u001b[0m\u001b[0;36m1\u001b[0m\u001b[0;34m]\u001b[0m \u001b[0;34m<\u001b[0m \u001b[0mweight\u001b[0m\u001b[0;34m:\u001b[0m\u001b[0;34m\u001b[0m\u001b[0;34m\u001b[0m\u001b[0m\n\u001b[0m\u001b[1;32m     18\u001b[0m             \u001b[0mon_bridge\u001b[0m\u001b[0;34m.\u001b[0m\u001b[0mappend\u001b[0m\u001b[0;34m(\u001b[0m\u001b[0mtruch_weights\u001b[0m\u001b[0;34m[\u001b[0m\u001b[0mi\u001b[0m\u001b[0;34m+\u001b[0m\u001b[0;36m1\u001b[0m\u001b[0;34m]\u001b[0m\u001b[0;34m)\u001b[0m\u001b[0;34m\u001b[0m\u001b[0;34m\u001b[0m\u001b[0m\n\u001b[1;32m     19\u001b[0m         \u001b[0mj\u001b[0m \u001b[0;34m+=\u001b[0m \u001b[0;36m1\u001b[0m\u001b[0;34m\u001b[0m\u001b[0;34m\u001b[0m\u001b[0m\n",
            "\u001b[0;31mIndexError\u001b[0m: list index out of range"
          ]
        }
      ]
    },
    {
      "cell_type": "code",
      "source": [
        "# 블로그 참고\n",
        "bridge_length, weight, truch_weights = 2, 10, [7,4,5,6]\n",
        "\n",
        "bridge = [0] * bridge_length\n",
        "time = 0\n",
        "print(bridge)\n",
        "while bridge:\n",
        "    time += 1\n",
        "    bridge.pop(0)\n",
        "    if truch_weights:\n",
        "        if sum(bridge) + truch_weights[0] <= weight:\n",
        "            truch = truch_weights.pop(0)\n",
        "            bridge.append(truch)\n",
        "            print(truch_weights,bridge,time)\n",
        "        else:\n",
        "            bridge.append(0)\n",
        "            print(truch_weights,bridge,time)\n",
        "print(bridge)\n",
        "print(time)"
      ],
      "metadata": {
        "colab": {
          "base_uri": "https://localhost:8080/"
        },
        "id": "G9RmVEtytZ8J",
        "outputId": "92bc6fbf-89c8-4dd4-ef24-dc3f3603ae16"
      },
      "execution_count": 83,
      "outputs": [
        {
          "output_type": "stream",
          "name": "stdout",
          "text": [
            "[0, 0]\n",
            "[4, 5, 6] [0, 7] 1\n",
            "[4, 5, 6] [7, 0] 2\n",
            "[5, 6] [0, 4] 3\n",
            "[6] [4, 5] 4\n",
            "[6] [5, 0] 5\n",
            "[] [0, 6] 6\n",
            "[]\n",
            "8\n"
          ]
        }
      ]
    },
    {
      "cell_type": "code",
      "source": [
        "# 스스로 풀어보기\n",
        "bridge_length, weight, truck_weights = 2, 10, [7,4,5,6]\n",
        "\n",
        "# 자료구조 queue 만들기\n",
        "bridge = [0] * bridge_length\n",
        "time = 0\n",
        "while bridge:\n",
        "    bridge.pop(0)\n",
        "    time += 1\n",
        "\n",
        "    if truck_weights:\n",
        "        # 트럭위에 새로운 차가 올라올 수 있는 경우\n",
        "        if sum(bridge) + truck_weights[0] <= weight:\n",
        "            # 대기열의 첫번째 차가 올라온다.\n",
        "            bridge.append(truck_weights.pop(0))\n",
        "        else:\n",
        "            # 대기열의 차는 기다려야한다.\n",
        "            bridge.append(0)\n",
        "print(time)"
      ],
      "metadata": {
        "colab": {
          "base_uri": "https://localhost:8080/"
        },
        "id": "vTqR_7Nw67Og",
        "outputId": "6e932c33-a2e1-4720-db8a-3daadc650dc0"
      },
      "execution_count": 85,
      "outputs": [
        {
          "output_type": "stream",
          "name": "stdout",
          "text": [
            "8\n"
          ]
        }
      ]
    },
    {
      "cell_type": "markdown",
      "source": [
        "# 주식가격"
      ],
      "metadata": {
        "id": "OvgR1j5N8_dR"
      }
    },
    {
      "cell_type": "markdown",
      "source": [
        "16:40 시작"
      ],
      "metadata": {
        "id": "Ns4u-d6w9BFx"
      }
    },
    {
      "cell_type": "markdown",
      "source": [
        "16:55\n",
        "테스트 케이스 1만 통과...\n",
        "\n",
        "효율성은 전부 시간초과\n",
        "\n",
        "17:00 else 추가로 전부통과!! 오예"
      ],
      "metadata": {
        "id": "RYY348SVA_Tf"
      }
    },
    {
      "cell_type": "code",
      "source": [
        "prices = [1,2,3,2,3,1]\n",
        "answer = [0]*len(prices)\n",
        "\n",
        "for i in range(len(prices)-1):\n",
        "    time = 1\n",
        "    for j in range(i+1,len(prices)-1):    \n",
        "        if prices[i] <= prices[j]:\n",
        "            time +=1\n",
        "        else:\n",
        "            break\n",
        "    answer[i] = time\n",
        "print(answer)\n"
      ],
      "metadata": {
        "colab": {
          "base_uri": "https://localhost:8080/"
        },
        "id": "sqrcn2HP9UCf",
        "outputId": "e4a09bfb-6738-4474-d701-b8c0a459eb06"
      },
      "execution_count": 99,
      "outputs": [
        {
          "output_type": "stream",
          "name": "stdout",
          "text": [
            "[5, 4, 1, 2, 1, 0]\n"
          ]
        }
      ]
    },
    {
      "cell_type": "code",
      "source": [
        ""
      ],
      "metadata": {
        "id": "24qjYEgNBCXX"
      },
      "execution_count": null,
      "outputs": []
    }
  ]
}
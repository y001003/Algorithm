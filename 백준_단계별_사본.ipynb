{
  "nbformat": 4,
  "nbformat_minor": 0,
  "metadata": {
    "colab": {
      "name": "백준 단계별.ipynb",
      "provenance": [],
      "authorship_tag": "ABX9TyNduKLyEvrRxdroDqTZAf9v",
      "include_colab_link": true
    },
    "kernelspec": {
      "name": "python3",
      "display_name": "Python 3"
    },
    "language_info": {
      "name": "python"
    }
  },
  "cells": [
    {
      "cell_type": "markdown",
      "metadata": {
        "id": "view-in-github",
        "colab_type": "text"
      },
      "source": [
        "<a href=\"https://colab.research.google.com/github/y001003/Algorithm/blob/main/%EB%B0%B1%EC%A4%80_%EB%8B%A8%EA%B3%84%EB%B3%84_%EC%82%AC%EB%B3%B8.ipynb\" target=\"_parent\"><img src=\"https://colab.research.google.com/assets/colab-badge.svg\" alt=\"Open In Colab\"/></a>"
      ]
    },
    {
      "cell_type": "code",
      "execution_count": null,
      "metadata": {
        "colab": {
          "base_uri": "https://localhost:8080/",
          "height": 241
        },
        "id": "rkCke9TaTkfQ",
        "outputId": "43a64e79-b9c4-4cce-cdaf-a605f81e66b4"
      },
      "outputs": [
        {
          "output_type": "error",
          "ename": "TypeError",
          "evalue": "ignored",
          "traceback": [
            "\u001b[0;31m---------------------------------------------------------------------------\u001b[0m",
            "\u001b[0;31mTypeError\u001b[0m                                 Traceback (most recent call last)",
            "\u001b[0;32m<ipython-input-8-9796061c630e>\u001b[0m in \u001b[0;36m<module>\u001b[0;34m()\u001b[0m\n\u001b[0;32m----> 1\u001b[0;31m \u001b[0mn\u001b[0m\u001b[0;34m,\u001b[0m \u001b[0mx\u001b[0m \u001b[0;34m=\u001b[0m \u001b[0mmap\u001b[0m\u001b[0;34m(\u001b[0m\u001b[0mint\u001b[0m\u001b[0;34m,\u001b[0m \u001b[0minput\u001b[0m\u001b[0;34m(\u001b[0m\u001b[0;34m)\u001b[0m\u001b[0;34m.\u001b[0m\u001b[0msplit\u001b[0m\u001b[0;34m(\u001b[0m\u001b[0;34m)\u001b[0m\u001b[0;34m)\u001b[0m\u001b[0;34m\u001b[0m\u001b[0;34m\u001b[0m\u001b[0m\n\u001b[0m\u001b[1;32m      2\u001b[0m \u001b[0mli\u001b[0m \u001b[0;34m=\u001b[0m \u001b[0mlist\u001b[0m\u001b[0;34m(\u001b[0m\u001b[0mmap\u001b[0m\u001b[0;34m(\u001b[0m\u001b[0mint\u001b[0m\u001b[0;34m,\u001b[0m \u001b[0minput\u001b[0m\u001b[0;34m(\u001b[0m\u001b[0;34m)\u001b[0m\u001b[0;34m.\u001b[0m\u001b[0msplit\u001b[0m\u001b[0;34m(\u001b[0m\u001b[0;34m)\u001b[0m\u001b[0;34m)\u001b[0m\u001b[0;34m)\u001b[0m\u001b[0;34m\u001b[0m\u001b[0;34m\u001b[0m\u001b[0m\n\u001b[1;32m      3\u001b[0m \u001b[0;32mfor\u001b[0m \u001b[0mi\u001b[0m \u001b[0;32min\u001b[0m \u001b[0mli\u001b[0m\u001b[0;34m:\u001b[0m\u001b[0;34m\u001b[0m\u001b[0;34m\u001b[0m\u001b[0m\n\u001b[1;32m      4\u001b[0m     \u001b[0;32mif\u001b[0m \u001b[0mi\u001b[0m \u001b[0;34m<\u001b[0m \u001b[0mx\u001b[0m\u001b[0;34m:\u001b[0m\u001b[0;34m\u001b[0m\u001b[0;34m\u001b[0m\u001b[0m\n\u001b[1;32m      5\u001b[0m         \u001b[0mprint\u001b[0m\u001b[0;34m(\u001b[0m\u001b[0mi\u001b[0m\u001b[0;34m,\u001b[0m\u001b[0mend\u001b[0m\u001b[0;34m=\u001b[0m\u001b[0;34m\" \"\u001b[0m\u001b[0;34m)\u001b[0m\u001b[0;34m\u001b[0m\u001b[0;34m\u001b[0m\u001b[0m\n",
            "\u001b[0;31mTypeError\u001b[0m: 'int' object is not callable"
          ]
        }
      ],
      "source": [
        "n, x = map(int, input().split())\n",
        "li = list(map(int, input().split()))\n",
        "for i in li:\n",
        "    if i < x:\n",
        "        print(i,end=\" \")\n"
      ]
    },
    {
      "cell_type": "code",
      "source": [
        "li = []\n",
        "for i in input().split():\n",
        "    li.append(int(i))\n",
        "print(li)"
      ],
      "metadata": {
        "colab": {
          "base_uri": "https://localhost:8080/"
        },
        "id": "_n4bJw2ZUXl1",
        "outputId": "d7a2481c-53e0-43a0-be01-d26e74be3c40"
      },
      "execution_count": null,
      "outputs": [
        {
          "output_type": "stream",
          "name": "stdout",
          "text": [
            "3 4\n",
            "[3, 4]\n"
          ]
        }
      ]
    },
    {
      "cell_type": "code",
      "source": [
        "while True:\n",
        "    try:\n",
        "        a, b = map(int, input().split())\n",
        "        print(a+b)\n",
        "    except:\n",
        "        break\n"
      ],
      "metadata": {
        "colab": {
          "base_uri": "https://localhost:8080/"
        },
        "id": "1hoifLLmZuvn",
        "outputId": "a6528a67-26cf-46f1-8d48-fcb75ec77351"
      },
      "execution_count": null,
      "outputs": [
        {
          "name": "stdout",
          "output_type": "stream",
          "text": [
            "3 4\n",
            "7\n",
            "5 6\n",
            "11\n",
            "\n"
          ]
        }
      ]
    },
    {
      "cell_type": "code",
      "source": [
        "# x = int(input())\n",
        "temp = x\n",
        "i = 0\n",
        "while True:\n",
        "    try:\n",
        "        \n",
        "        a = int(temp//10)\n",
        "        b = int(temp%10)\n",
        "        \n",
        "        c = a+b\n",
        "        d = int(c%10)\n",
        "\n",
        "        e = b*10 + d\n",
        "        i += 1\n",
        "        if e == x:\n",
        "            break\n",
        "        # print(e)\n",
        "        temp = e\n",
        "        \n",
        "\n",
        "\n",
        "    except:\n",
        "        break\n",
        "print(i)"
      ],
      "metadata": {
        "colab": {
          "base_uri": "https://localhost:8080/"
        },
        "id": "xINe23aBc97L",
        "outputId": "72b17955-f07a-4d1f-8c1a-707456c080f9"
      },
      "execution_count": null,
      "outputs": [
        {
          "output_type": "stream",
          "name": "stdout",
          "text": [
            "3\n",
            "60\n"
          ]
        }
      ]
    },
    {
      "cell_type": "code",
      "source": [
        "# n = int(input())\n",
        "li = list(map(int, input().split()))\n",
        "\n",
        "\n",
        "print(min(li),max(li))"
      ],
      "metadata": {
        "colab": {
          "base_uri": "https://localhost:8080/"
        },
        "id": "gMIKpBFci74Z",
        "outputId": "cac1afcd-f1ce-4dd2-a26c-de0d161c4347"
      },
      "execution_count": null,
      "outputs": [
        {
          "output_type": "stream",
          "name": "stdout",
          "text": [
            "2\n",
            "1 2 3\n",
            "1 3\n"
          ]
        }
      ]
    },
    {
      "cell_type": "markdown",
      "source": [
        "## 백준 4단계"
      ],
      "metadata": {
        "id": "wB5KWfdzZUCi"
      }
    },
    {
      "cell_type": "markdown",
      "source": [
        "2번 2562번\n"
      ],
      "metadata": {
        "id": "czneMrHYZYRU"
      }
    },
    {
      "cell_type": "code",
      "source": [
        "i = 0\n",
        "x = 0\n",
        "max = 0\n",
        "min = 0\n",
        "while i <9:\n",
        "    \n",
        "    a = int(input())\n",
        "    if a > max:\n",
        "        max = a\n",
        "        x = i+1\n",
        "    i += 1\n",
        "print(max)\n",
        "print(x)"
      ],
      "metadata": {
        "id": "6OxXMy37ZfyR",
        "outputId": "0f6fc43f-2571-446a-851d-36ede38b5b32",
        "colab": {
          "base_uri": "https://localhost:8080/",
          "height": 241
        }
      },
      "execution_count": null,
      "outputs": [
        {
          "output_type": "error",
          "ename": "TypeError",
          "evalue": "ignored",
          "traceback": [
            "\u001b[0;31m---------------------------------------------------------------------------\u001b[0m",
            "\u001b[0;31mTypeError\u001b[0m                                 Traceback (most recent call last)",
            "\u001b[0;32m<ipython-input-3-f29e5290e566>\u001b[0m in \u001b[0;36m<module>\u001b[0;34m()\u001b[0m\n\u001b[1;32m      4\u001b[0m \u001b[0;34m\u001b[0m\u001b[0m\n\u001b[1;32m      5\u001b[0m \u001b[0;32mfor\u001b[0m \u001b[0mi\u001b[0m \u001b[0;32min\u001b[0m \u001b[0mrange\u001b[0m\u001b[0;34m(\u001b[0m\u001b[0;36m10\u001b[0m\u001b[0;34m)\u001b[0m\u001b[0;34m:\u001b[0m\u001b[0;34m\u001b[0m\u001b[0;34m\u001b[0m\u001b[0m\n\u001b[0;32m----> 6\u001b[0;31m     \u001b[0minput\u001b[0m \u001b[0;34m=\u001b[0m \u001b[0mint\u001b[0m\u001b[0;34m(\u001b[0m\u001b[0minput\u001b[0m\u001b[0;34m(\u001b[0m\u001b[0;34m)\u001b[0m\u001b[0;34m)\u001b[0m\u001b[0;34m\u001b[0m\u001b[0;34m\u001b[0m\u001b[0m\n\u001b[0m\u001b[1;32m      7\u001b[0m     \u001b[0;32mif\u001b[0m \u001b[0mmax\u001b[0m \u001b[0;34m<\u001b[0m \u001b[0minput\u001b[0m \u001b[0;34m:\u001b[0m\u001b[0;34m\u001b[0m\u001b[0;34m\u001b[0m\u001b[0m\n\u001b[1;32m      8\u001b[0m         \u001b[0mmax\u001b[0m \u001b[0;34m=\u001b[0m \u001b[0minput\u001b[0m\u001b[0;34m\u001b[0m\u001b[0;34m\u001b[0m\u001b[0m\n",
            "\u001b[0;31mTypeError\u001b[0m: 'map' object is not callable"
          ]
        }
      ]
    },
    {
      "cell_type": "markdown",
      "source": [
        "3번 2577번"
      ],
      "metadata": {
        "id": "2PoOlGOYrrYx"
      }
    },
    {
      "cell_type": "code",
      "source": [
        "a = int(input())\n",
        "b = int(input())\n",
        "c = int(input())\n",
        "\n",
        "mul = a * b * c\n",
        "str_mul = str(mul)\n",
        "\n",
        "for i in range(10):\n",
        "    print(str_mul.count(str(i)))\n"
      ],
      "metadata": {
        "id": "aIS-4JTlr1gm",
        "outputId": "cc17f98c-9866-4cb9-8fd3-23f31d3f7b83",
        "colab": {
          "base_uri": "https://localhost:8080/"
        }
      },
      "execution_count": null,
      "outputs": [
        {
          "output_type": "stream",
          "name": "stdout",
          "text": [
            "150\n",
            "266\n",
            "427\n",
            "3\n",
            "1\n",
            "0\n",
            "2\n",
            "0\n",
            "0\n",
            "0\n",
            "2\n",
            "0\n",
            "0\n"
          ]
        }
      ]
    },
    {
      "cell_type": "markdown",
      "source": [
        "4번 3052번\n"
      ],
      "metadata": {
        "id": "RW_h9mMxtz-F"
      }
    },
    {
      "cell_type": "code",
      "source": [
        "L,A,B,C,D = [int(input()) for _ in range(10)]\n"
      ],
      "metadata": {
        "id": "zNxbMrJKt3nb",
        "outputId": "954efb99-bdee-4763-d096-6eadf1a69b10",
        "colab": {
          "base_uri": "https://localhost:8080/"
        }
      },
      "execution_count": null,
      "outputs": [
        {
          "name": "stdout",
          "output_type": "stream",
          "text": [
            "1\n",
            "2\n",
            "3\n",
            "4\n",
            "5\n"
          ]
        },
        {
          "output_type": "execute_result",
          "data": {
            "text/plain": [
              "1"
            ]
          },
          "metadata": {},
          "execution_count": 6
        }
      ]
    },
    {
      "cell_type": "code",
      "source": [
        "i = 0\n",
        "remain_li = []\n",
        "x = 0\n",
        "while i < 10:\n",
        "    a = int(input())\n",
        "    remain = a %42\n",
        "    i+=1\n",
        "    \n",
        "    if remain_li.count(remain) == 0:\n",
        "        remain_li.append(remain)\n",
        "        # print(remain)\n",
        "        x +=1\n",
        "\n",
        "# print(remain_li)\n",
        "print(x)"
      ],
      "metadata": {
        "id": "YiN1rQtYvjOV",
        "outputId": "d515e86e-d0ba-487d-c1dc-8f5e4e977ab1",
        "colab": {
          "base_uri": "https://localhost:8080/"
        }
      },
      "execution_count": null,
      "outputs": [
        {
          "output_type": "stream",
          "name": "stdout",
          "text": [
            "39\n",
            "39\n",
            "40\n",
            "40\n",
            "41\n",
            "41\n",
            "42\n",
            "0\n",
            "43\n",
            "1\n",
            "44\n",
            "2\n",
            "82\n",
            "83\n",
            "84\n",
            "85\n",
            "[39, 40, 41, 0, 1, 2]\n",
            "6\n"
          ]
        }
      ]
    },
    {
      "cell_type": "code",
      "source": [
        "li = [int(input()) for _ in range(10)]\n",
        "\n",
        "result = []\n",
        "for i in li:\n",
        "    a = i%42\n",
        "    if a not in result:\n",
        "        result.append(a)\n",
        "print(len(result))\n"
      ],
      "metadata": {
        "id": "qcPnrKLYsvUV",
        "outputId": "1e92959b-a4f6-4add-b976-e9e3ec96c72f",
        "colab": {
          "base_uri": "https://localhost:8080/"
        }
      },
      "execution_count": null,
      "outputs": [
        {
          "output_type": "stream",
          "name": "stdout",
          "text": [
            "42\n",
            "84\n",
            "252\n",
            "420\n",
            "840\n",
            "126\n",
            "42\n",
            "84\n",
            "420\n",
            "126\n",
            "1\n"
          ]
        }
      ]
    },
    {
      "cell_type": "markdown",
      "source": [
        "5번 1546번"
      ],
      "metadata": {
        "id": "fwPPCO133QQ5"
      }
    },
    {
      "cell_type": "code",
      "source": [
        "n = int(input())\n",
        "li = list(map(int, input().split()))\n",
        "m = max(li)\n",
        "x = 0\n",
        "for i in li:\n",
        "    x += i/m\n",
        "print(x/n * 100)"
      ],
      "metadata": {
        "id": "fheUTCUH3VDr",
        "outputId": "70202e2d-9d64-45d9-f87d-a934bc334220",
        "colab": {
          "base_uri": "https://localhost:8080/"
        }
      },
      "execution_count": null,
      "outputs": [
        {
          "output_type": "stream",
          "name": "stdout",
          "text": [
            "3\n",
            "40 80 60\n",
            "75.0\n"
          ]
        }
      ]
    },
    {
      "cell_type": "markdown",
      "source": [
        "6번 8958번"
      ],
      "metadata": {
        "id": "UMd3SH2lCCHZ"
      }
    },
    {
      "cell_type": "code",
      "source": [
        "n = int(input())\n",
        "for i in range(n):\n",
        "    quiz = input()\n",
        "    x = 0\n",
        "    result = 0\n",
        "\n",
        "    for j in quiz:\n",
        "        if j == 'O' :\n",
        "            x += 1\n",
        "            result += x\n",
        "            \n",
        "        else :\n",
        "            x = 0\n",
        "    print(result)\n"
      ],
      "metadata": {
        "id": "DmADtoARCG6m",
        "outputId": "b82a760c-bb75-4cd5-c33f-357d6ff37c6e",
        "colab": {
          "base_uri": "https://localhost:8080/"
        }
      },
      "execution_count": null,
      "outputs": [
        {
          "output_type": "stream",
          "name": "stdout",
          "text": [
            "2\n",
            "OOXXOXXOOO\n",
            "10\n",
            "OOXXOOXXOO\n",
            "9\n"
          ]
        }
      ]
    },
    {
      "cell_type": "markdown",
      "source": [
        "7번 4344번"
      ],
      "metadata": {
        "id": "3DF4dHmBGQD3"
      }
    },
    {
      "cell_type": "code",
      "source": [
        "import numpy as np\n",
        "\n",
        "cnt = int(input())\n",
        "for i in range(cnt):\n",
        "    li = np.array(list(map(int, input().split())))[1:]\n",
        "    ans = len( li[li > li.mean()] )/len(li)\n",
        "    print( \"%.3f%%\" % (ans*100) )\n",
        "### 백준 numpy 사용 불가..."
      ],
      "metadata": {
        "id": "-hqzscb9GTA3",
        "outputId": "1a77c346-be36-4ce6-8e50-947ac6c41880",
        "colab": {
          "base_uri": "https://localhost:8080/"
        }
      },
      "execution_count": null,
      "outputs": [
        {
          "output_type": "stream",
          "name": "stdout",
          "text": [
            "3\n",
            "5 50 50 70 80 100\n",
            "40.000%\n",
            "7 100 95 90 80 70 60 50\n",
            "57.143%\n",
            "3 70 90 80\n",
            "33.333%\n"
          ]
        }
      ]
    },
    {
      "cell_type": "code",
      "source": [
        "import numpy as np\n",
        "\n",
        "cnt = int(input())\n",
        "for i in range(cnt):\n",
        "    li = np.array(list(map(int, input().split())))[1:]\n",
        "    ans = len( li[li > li.mean()] )/len(li)\n",
        "    print( \"%.3f%%\" % (ans*100) )\n"
      ],
      "metadata": {
        "id": "azIcYs9hL0nf"
      },
      "execution_count": null,
      "outputs": []
    },
    {
      "cell_type": "code",
      "source": [
        "cnt = int(input())\n",
        "\n",
        "for i in range(cnt):\n",
        "    upper = []\n",
        "    li = list(map(int, input().split()))[1:]\n",
        "    for j in li:\n",
        "        if j > sum(li)/len(li):\n",
        "            upper.append(j)\n",
        "    ans = len(upper)/len(li)\n",
        "    print( \"%.3f%%\" % (ans*100) )"
      ],
      "metadata": {
        "id": "Umf6IwWzNHg3",
        "outputId": "183355c1-7eba-47fb-d4d8-70ca50a4e9ae",
        "colab": {
          "base_uri": "https://localhost:8080/"
        }
      },
      "execution_count": null,
      "outputs": [
        {
          "output_type": "stream",
          "name": "stdout",
          "text": [
            "1\n",
            "5 50 50 70 80 100\n",
            "40.000%\n"
          ]
        }
      ]
    },
    {
      "cell_type": "code",
      "source": [
        "x = 0.4\n",
        "print(\"%.1f\" % x)"
      ],
      "metadata": {
        "id": "KCfJO9esKN7X",
        "outputId": "9f348f87-9edb-42fe-dd0f-a37180e151c9",
        "colab": {
          "base_uri": "https://localhost:8080/"
        }
      },
      "execution_count": null,
      "outputs": [
        {
          "output_type": "stream",
          "name": "stdout",
          "text": [
            "0.4\n"
          ]
        }
      ]
    },
    {
      "cell_type": "code",
      "source": [
        "a = np.array([5, 50, 50, 70, 80, 100])[1:]\n",
        "len(a[a > a.mean()])/len(a)"
      ],
      "metadata": {
        "id": "ikwA88FiH1oi",
        "outputId": "80d27a30-1085-42a9-e558-c2fafd42624c",
        "colab": {
          "base_uri": "https://localhost:8080/"
        }
      },
      "execution_count": null,
      "outputs": [
        {
          "output_type": "execute_result",
          "data": {
            "text/plain": [
              "0.4"
            ]
          },
          "metadata": {},
          "execution_count": 29
        }
      ]
    },
    {
      "cell_type": "code",
      "source": [
        "a = [5, 50, 50, 70, 80, 100][1:]\n",
        "# sum = 0\n",
        "# for i in a[1:]:\n",
        "#     sum +=\n",
        "sum(a)/len(a)\n",
        "upper = []\n",
        "for i in a:\n",
        "    if i > sum(a)/len(a):\n",
        "        upper.append(i)\n",
        "print(len(upper)/len(a))"
      ],
      "metadata": {
        "id": "2i1yMEvNL95G",
        "outputId": "6aff926b-df25-44fc-a080-8a2137fdfbeb",
        "colab": {
          "base_uri": "https://localhost:8080/"
        }
      },
      "execution_count": null,
      "outputs": [
        {
          "output_type": "stream",
          "name": "stdout",
          "text": [
            "0.4\n"
          ]
        }
      ]
    },
    {
      "cell_type": "markdown",
      "source": [
        "## 백준 5단계 함수"
      ],
      "metadata": {
        "id": "gl226B8le6c_"
      }
    },
    {
      "cell_type": "markdown",
      "source": [
        "2번 4673번"
      ],
      "metadata": {
        "id": "zI9S9dtJfC9E"
      }
    },
    {
      "cell_type": "code",
      "source": [
        "def solve(a):\n",
        "    string = str(a)\n",
        "    li = list(map(int, string))\n",
        "    result = a + sum(li)\n",
        "    return result\n",
        "ans_li = []\n",
        "self_num = []\n",
        "for i in range(1,10001):\n",
        "    self_num.append(solve(i))\n",
        "for i in range(1,10001):\n",
        "    if i not in self_num:\n",
        "        print(i)\n"
      ],
      "metadata": {
        "id": "MxY34XmFfHVD"
      },
      "execution_count": null,
      "outputs": []
    },
    {
      "cell_type": "code",
      "source": [
        "def solve(a):\n",
        "    sum = a\n",
        "    string = str(a)\n",
        "    for i in string:\n",
        "        sum += int(i)\n",
        "    return sum\n",
        "ans_li = []\n",
        "self_num = []\n",
        "for i in range(1,10001):\n",
        "    self_num.append(solve(i))\n",
        "for i in range(1,10001):\n",
        "    if i not in self_num:\n",
        "        print(i)"
      ],
      "metadata": {
        "id": "UCPOzynOn5rU"
      },
      "execution_count": null,
      "outputs": []
    },
    {
      "cell_type": "code",
      "source": [
        "def solve(a):\n",
        "    sum = a\n",
        "    string = str(a)\n",
        "    for i in string:\n",
        "        sum += int(i)\n",
        "    return sum\n",
        "self_num = set()\n",
        "for i in range(1,10001):\n",
        "    self_num.add(solve(i))\n",
        "for i in range(1,10001):\n",
        "    if i not in self_num:\n",
        "        print(i)"
      ],
      "metadata": {
        "id": "PG8bF2D_meBD"
      },
      "execution_count": null,
      "outputs": []
    },
    {
      "cell_type": "markdown",
      "source": [
        "![image.png](data:image/png;base64,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)"
      ],
      "metadata": {
        "id": "i9skbCj0l-vL"
      }
    },
    {
      "cell_type": "markdown",
      "source": [
        "3번 1065번"
      ],
      "metadata": {
        "id": "6KInAS4tl6Xs"
      }
    },
    {
      "cell_type": "code",
      "source": [
        "def solve(a):\n",
        "    ans = set()\n",
        "    string = str(a)\n",
        "    temp = int(string[0])\n",
        "    if a <10:\n",
        "        ans.add(a)\n",
        "    for i in string[1:]:\n",
        "        ans.add(int(i)-temp)\n",
        "        temp = int(i)\n",
        "        \n",
        "    return ans\n",
        "ipt = int(input())\n",
        "cnt = 0\n",
        "for i in range(1,ipt+1):\n",
        "    if len(solve(i)) < 2 : \n",
        "        cnt += 1\n",
        "print(cnt)\n"
      ],
      "metadata": {
        "colab": {
          "base_uri": "https://localhost:8080/"
        },
        "id": "cKrsTIsopOXF",
        "outputId": "336d1771-d3e2-4680-cf3a-d1f60bdf4db4"
      },
      "execution_count": null,
      "outputs": [
        {
          "output_type": "stream",
          "name": "stdout",
          "text": [
            "110\n",
            "99\n"
          ]
        }
      ]
    },
    {
      "cell_type": "markdown",
      "source": [
        "## 백준 6단계 문자열"
      ],
      "metadata": {
        "id": "RO42wV5ryunp"
      }
    },
    {
      "cell_type": "markdown",
      "source": [
        "1번 11654번"
      ],
      "metadata": {
        "id": "0g8GC2B1rkxA"
      }
    },
    {
      "cell_type": "code",
      "source": [
        "a = input()\n",
        "ord(a)"
      ],
      "metadata": {
        "colab": {
          "base_uri": "https://localhost:8080/"
        },
        "id": "2v79UNsuy4-I",
        "outputId": "8abac620-9985-4a8e-8e83-dded79678965"
      },
      "execution_count": null,
      "outputs": [
        {
          "name": "stdout",
          "output_type": "stream",
          "text": [
            "0\n"
          ]
        },
        {
          "output_type": "execute_result",
          "data": {
            "text/plain": [
              "48"
            ]
          },
          "metadata": {},
          "execution_count": 57
        }
      ]
    },
    {
      "cell_type": "markdown",
      "source": [
        "2번 11720번"
      ],
      "metadata": {
        "id": "t4s_BOSQzp_N"
      }
    },
    {
      "cell_type": "code",
      "source": [
        "num = input()\n",
        "ipt = input()\n",
        "sum = 0\n",
        "for i in ipt:\n",
        "    sum += int(i)\n",
        "print(sum)"
      ],
      "metadata": {
        "colab": {
          "base_uri": "https://localhost:8080/"
        },
        "id": "CQbMli7L3hSQ",
        "outputId": "1a91632e-7915-4ee2-c25d-9c550b31817a"
      },
      "execution_count": null,
      "outputs": [
        {
          "output_type": "stream",
          "name": "stdout",
          "text": [
            "5\n",
            "54321\n",
            "15\n"
          ]
        }
      ]
    },
    {
      "cell_type": "code",
      "source": [
        "import numpy as np\n",
        "a=input()\n",
        "b=list(map(int,input()))\n",
        "# sum(b) 왜 안되는지 모르겠다\n",
        "np.sum(b) # 이건 되는데"
      ],
      "metadata": {
        "colab": {
          "base_uri": "https://localhost:8080/"
        },
        "id": "EbxQqi_lzti1",
        "outputId": "dc07e4f8-2ff7-4cfc-fb42-686ea6868632"
      },
      "execution_count": null,
      "outputs": [
        {
          "name": "stdout",
          "output_type": "stream",
          "text": [
            "5\n",
            "54321\n"
          ]
        },
        {
          "output_type": "execute_result",
          "data": {
            "text/plain": [
              "15"
            ]
          },
          "metadata": {},
          "execution_count": 78
        }
      ]
    },
    {
      "cell_type": "code",
      "source": [
        "N = int(input())\n",
        "n = int(input())\n",
        "\n",
        "n_list = map(int, list(str(n)))\n",
        "print(sum(n_list))"
      ],
      "metadata": {
        "colab": {
          "base_uri": "https://localhost:8080/",
          "height": 237
        },
        "id": "cYzF1XF_4DGS",
        "outputId": "f695f3e2-678c-4763-c00f-ea0ee0aaf650"
      },
      "execution_count": null,
      "outputs": [
        {
          "name": "stdout",
          "output_type": "stream",
          "text": [
            "5\n",
            "54321\n"
          ]
        },
        {
          "output_type": "error",
          "ename": "TypeError",
          "evalue": "ignored",
          "traceback": [
            "\u001b[0;31m---------------------------------------------------------------------------\u001b[0m",
            "\u001b[0;31mTypeError\u001b[0m                                 Traceback (most recent call last)",
            "\u001b[0;32m<ipython-input-67-a1cdfccdd613>\u001b[0m in \u001b[0;36m<module>\u001b[0;34m()\u001b[0m\n\u001b[1;32m      3\u001b[0m \u001b[0;34m\u001b[0m\u001b[0m\n\u001b[1;32m      4\u001b[0m \u001b[0mn_list\u001b[0m \u001b[0;34m=\u001b[0m \u001b[0mmap\u001b[0m\u001b[0;34m(\u001b[0m\u001b[0mint\u001b[0m\u001b[0;34m,\u001b[0m \u001b[0mlist\u001b[0m\u001b[0;34m(\u001b[0m\u001b[0mstr\u001b[0m\u001b[0;34m(\u001b[0m\u001b[0mn\u001b[0m\u001b[0;34m)\u001b[0m\u001b[0;34m)\u001b[0m\u001b[0;34m)\u001b[0m\u001b[0;34m\u001b[0m\u001b[0;34m\u001b[0m\u001b[0m\n\u001b[0;32m----> 5\u001b[0;31m \u001b[0mprint\u001b[0m\u001b[0;34m(\u001b[0m\u001b[0msum\u001b[0m\u001b[0;34m(\u001b[0m\u001b[0mn_list\u001b[0m\u001b[0;34m)\u001b[0m\u001b[0;34m)\u001b[0m\u001b[0;34m\u001b[0m\u001b[0;34m\u001b[0m\u001b[0m\n\u001b[0m",
            "\u001b[0;31mTypeError\u001b[0m: 'int' object is not callable"
          ]
        }
      ]
    },
    {
      "cell_type": "markdown",
      "source": [
        "3번 10809번 알파벳 찾기"
      ],
      "metadata": {
        "id": "ZUTvfzpK57m0"
      }
    },
    {
      "cell_type": "code",
      "source": [
        "import string\n",
        "alphabet = string.ascii_lowercase\n",
        "\n",
        "ipt = input()\n",
        "for i in alphabet:\n",
        "    if i in ipt:\n",
        "        print(ipt.index(i),end=' ')\n",
        "    else:\n",
        "        print(-1, end = ' ')\n",
        "    "
      ],
      "metadata": {
        "colab": {
          "base_uri": "https://localhost:8080/"
        },
        "id": "EJwUmEEv5_1F",
        "outputId": "15344fda-9ea5-4c92-965e-bec424bc409b"
      },
      "execution_count": null,
      "outputs": [
        {
          "output_type": "stream",
          "name": "stdout",
          "text": [
            "baekjoon\n",
            "1 0 -1 -1 2 -1 -1 -1 -1 4 3 -1 -1 7 5 -1 -1 -1 -1 -1 -1 -1 -1 -1 -1 -1 "
          ]
        }
      ]
    },
    {
      "cell_type": "markdown",
      "source": [
        "4번 2675번"
      ],
      "metadata": {
        "id": "3Eu_J9e2_4Bn"
      }
    },
    {
      "cell_type": "code",
      "source": [
        "n = int(input())\n",
        "for _ in range(n):\n",
        "    r, p = input().split()\n",
        "    for i in p:\n",
        "        print(i*int(r), end='')\n",
        "    print()\n",
        "# 왜 틀렸지?\n"
      ],
      "metadata": {
        "colab": {
          "base_uri": "https://localhost:8080/"
        },
        "id": "lCgpfQY8_87T",
        "outputId": "41efc421-4bf7-4a7d-eec6-7bee888ea933"
      },
      "execution_count": null,
      "outputs": [
        {
          "output_type": "stream",
          "name": "stdout",
          "text": [
            "2\n",
            "3 ABC\n",
            "AAABBBCCC5 /HTP\n",
            "/////HHHHHTTTTTPPPPP"
          ]
        }
      ]
    },
    {
      "cell_type": "code",
      "source": [
        "n = int(input())\n",
        "\n",
        "for _ in range(n):\n",
        "    r, p = input().split()\n",
        "    ans = str()\n",
        "    for i in p:\n",
        "        ans += i*int(r)\n",
        "    print(ans)\n"
      ],
      "metadata": {
        "colab": {
          "base_uri": "https://localhost:8080/"
        },
        "id": "oPpDStnHB3MA",
        "outputId": "db547401-1408-4723-e05b-fd8c9d3d3588"
      },
      "execution_count": null,
      "outputs": [
        {
          "output_type": "stream",
          "name": "stdout",
          "text": [
            "2\n",
            "3 ABC\n",
            "AAABBBCCC\n",
            "5 /HTP\n",
            "/////HHHHHTTTTTPPPPP\n"
          ]
        }
      ]
    },
    {
      "cell_type": "markdown",
      "source": [
        "5번 1157번 단어공부"
      ],
      "metadata": {
        "id": "T-QEdmyxEFfH"
      }
    },
    {
      "cell_type": "code",
      "source": [
        "ipt = input()\n",
        "ipt = ipt.upper()\n",
        "\n",
        "ans = []\n",
        "ipt = list(ipt)\n",
        "\n",
        "max = 0\n",
        "out = 0\n",
        "for i in ipt:\n",
        "\n",
        "    temp = ipt.count(i)\n",
        "    if ans is None:\n",
        "        ans.append(ipt.index(i))\n",
        "    elif temp > max :\n",
        "        ans.append(ipt.index(i))\n",
        "        max = temp\n",
        "        \n",
        "\n",
        "    elif temp == max :\n",
        "        print('?')\n",
        "        out = 1\n",
        "        break\n",
        "if out == 0:\n",
        "    print(ipt[ ans[-1] ])\n"
      ],
      "metadata": {
        "colab": {
          "base_uri": "https://localhost:8080/"
        },
        "id": "F1R1JSSPEKMk",
        "outputId": "3a2948ee-53ad-4065-cf31-7d8b5cbf359f"
      },
      "execution_count": null,
      "outputs": [
        {
          "output_type": "stream",
          "name": "stdout",
          "text": [
            "zZa\n",
            "?\n"
          ]
        }
      ]
    },
    {
      "cell_type": "code",
      "source": [
        "ipt = input()\n",
        "ipt = list(ipt.upper())\n",
        "\n",
        "ans = []\n",
        "max = 0\n",
        "out = 0\n",
        "\n",
        "for i in ipt:\n",
        "    temp = ipt.count(i)\n",
        "    if ans is None:\n",
        "        ans.append(ipt.index(i))\n",
        "    elif temp > max :\n",
        "        ans.append(ipt.index(i))\n",
        "        max = temp\n",
        "    elif i == ipt[ans[-1]]:\n",
        "        continue\n",
        "\n",
        "    elif temp == max :\n",
        "        print('?')\n",
        "        out = 1\n",
        "        break\n",
        "\n",
        "if out == 0:\n",
        "    \n",
        "    print(ipt[ ans[-1] ])\n",
        "# 시간초과................"
      ],
      "metadata": {
        "id": "9HD278PGbpFq",
        "outputId": "bb971000-0404-48c6-c23a-2335232174e5",
        "colab": {
          "base_uri": "https://localhost:8080/"
        }
      },
      "execution_count": null,
      "outputs": [
        {
          "output_type": "stream",
          "name": "stdout",
          "text": [
            "zZa\n",
            "Z\n"
          ]
        }
      ]
    },
    {
      "cell_type": "code",
      "source": [
        "ipt = input()\n",
        "ipt = ipt.upper()\n",
        "\n",
        "ans = []\n",
        "ipt = list(ipt)\n",
        "cnt = 0\n",
        "for i in range(len(ipt)):\n",
        "    for j in ipt:\n",
        "        if j == ipt[i]:\n",
        "            cnt += 1\n",
        "            "
      ],
      "metadata": {
        "id": "GHE8E4IJS0kA"
      },
      "execution_count": null,
      "outputs": []
    },
    {
      "cell_type": "code",
      "source": [
        "ipt = 'Mississipi'\n",
        "ipt = ipt.upper()\n",
        "a=0\n",
        "b=0\n",
        "for i in ipt:\n",
        "    a = ipt.count(i)\n",
        "    print(ipt.count(i))"
      ],
      "metadata": {
        "colab": {
          "base_uri": "https://localhost:8080/"
        },
        "id": "8n-8X6YQUZgK",
        "outputId": "a18bdb0f-0706-4ebe-9dcf-a696423f678b"
      },
      "execution_count": null,
      "outputs": [
        {
          "output_type": "stream",
          "name": "stdout",
          "text": [
            "1\n",
            "4\n",
            "4\n",
            "4\n",
            "4\n",
            "4\n",
            "4\n",
            "4\n",
            "1\n",
            "4\n"
          ]
        }
      ]
    }
  ]
}
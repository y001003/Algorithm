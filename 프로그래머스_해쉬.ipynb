{
  "nbformat": 4,
  "nbformat_minor": 0,
  "metadata": {
    "colab": {
      "name": "프로그래머스_해쉬.ipynb",
      "provenance": [],
      "authorship_tag": "ABX9TyPBdTP1cpU5zPriKcQBQ7wg",
      "include_colab_link": true
    },
    "kernelspec": {
      "name": "python3",
      "display_name": "Python 3"
    },
    "language_info": {
      "name": "python"
    }
  },
  "cells": [
    {
      "cell_type": "markdown",
      "metadata": {
        "id": "view-in-github",
        "colab_type": "text"
      },
      "source": [
        "<a href=\"https://colab.research.google.com/github/y001003/Algorithm/blob/main/%ED%94%84%EB%A1%9C%EA%B7%B8%EB%9E%98%EB%A8%B8%EC%8A%A4_%ED%95%B4%EC%89%AC.ipynb\" target=\"_parent\"><img src=\"https://colab.research.google.com/assets/colab-badge.svg\" alt=\"Open In Colab\"/></a>"
      ]
    },
    {
      "cell_type": "code",
      "source": [
        "def solution(participant, completion):\n",
        "    \n",
        "    p = dict()\n",
        "    answer = list()\n",
        "    \n",
        "    for i in participant:\n",
        "        if i in p:\n",
        "            p[i] += 1\n",
        "        else:\n",
        "            p[i] = 1\n",
        "    \n",
        "    for i in completion:\n",
        "        p[i] -= 1\n",
        "    \n",
        "    for key, value in p.items():\n",
        "        if value == 1:\n",
        "            answer.append(key)\n",
        "        \n",
        "    return answer[0]"
      ],
      "metadata": {
        "id": "NC2flLID26pD"
      },
      "execution_count": null,
      "outputs": []
    },
    {
      "cell_type": "code",
      "execution_count": null,
      "metadata": {
        "id": "9t8f2HXN2qwh"
      },
      "outputs": [],
      "source": [
        "def solution(phone_book):\n",
        "    '''\n",
        "    nums_dict = dict()\n",
        "    \n",
        "    for number in phone_book:\n",
        "        nums_dict[number] = 1\n",
        "    \n",
        "    for number in phone_book:\n",
        "        temp = ''\n",
        "        for num in number[:-1]:\n",
        "            temp += num\n",
        "            if temp in nums_dict:\n",
        "                return False\n",
        "        \n",
        "    '''\n",
        "    phone_book.sort()\n",
        "    for p1, p2 in zip(phone_book,phone_book[1:]):\n",
        "        if p2.startswith(p1):\n",
        "            return False\n",
        "        \n",
        "\n",
        "    answer = True\n",
        "    return answer"
      ]
    },
    {
      "cell_type": "markdown",
      "source": [
        "# 위장"
      ],
      "metadata": {
        "id": "pQMVTzSG22_t"
      }
    },
    {
      "cell_type": "code",
      "source": [
        "def solution(clothes):\n",
        "    clo_dict = {}\n",
        "    \n",
        "    for li in clothes:\n",
        "        if li[1] in clo_dict:\n",
        "            clo_dict[li[1]] +=1\n",
        "        else:\n",
        "            clo_dict[li[1]] = 1\n",
        "            \n",
        "    # answer = 0\n",
        "    answer = sum(clo_dict.values())\n",
        "    \n",
        "    temp = 0\n",
        "    values = 1\n",
        "    if len(list(clo_dict.keys())) != 1:\n",
        "        for value in list(clo_dict.values()):\n",
        "            if temp == 0:\n",
        "                temp = value\n",
        "            temp *= value\n",
        "            \n",
        "    answer += temp\n",
        "    \n",
        "    return answer"
      ],
      "metadata": {
        "id": "hwOjENSh4gEe"
      },
      "execution_count": null,
      "outputs": []
    }
  ]
}
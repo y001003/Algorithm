{
  "nbformat": 4,
  "nbformat_minor": 0,
  "metadata": {
    "colab": {
      "name": "프로그래머스_해쉬.ipynb",
      "provenance": [],
      "collapsed_sections": [],
      "authorship_tag": "ABX9TyNQZRs5zZCrJ2OZiEBXQOcX",
      "include_colab_link": true
    },
    "kernelspec": {
      "name": "python3",
      "display_name": "Python 3"
    },
    "language_info": {
      "name": "python"
    }
  },
  "cells": [
    {
      "cell_type": "markdown",
      "metadata": {
        "id": "view-in-github",
        "colab_type": "text"
      },
      "source": [
        "<a href=\"https://colab.research.google.com/github/y001003/Algorithm/blob/main/%ED%94%84%EB%A1%9C%EA%B7%B8%EB%9E%98%EB%A8%B8%EC%8A%A4_%ED%95%B4%EC%89%AC.ipynb\" target=\"_parent\"><img src=\"https://colab.research.google.com/assets/colab-badge.svg\" alt=\"Open In Colab\"/></a>"
      ]
    },
    {
      "cell_type": "code",
      "source": [
        "def solution(participant, completion):\n",
        "    \n",
        "    p = dict()\n",
        "    answer = list()\n",
        "    \n",
        "    for i in participant:\n",
        "        if i in p:\n",
        "            p[i] += 1\n",
        "        else:\n",
        "            p[i] = 1\n",
        "    \n",
        "    for i in completion:\n",
        "        p[i] -= 1\n",
        "    \n",
        "    for key, value in p.items():\n",
        "        if value == 1:\n",
        "            answer.append(key)\n",
        "        \n",
        "    return answer[0]"
      ],
      "metadata": {
        "id": "NC2flLID26pD"
      },
      "execution_count": null,
      "outputs": []
    },
    {
      "cell_type": "code",
      "execution_count": null,
      "metadata": {
        "id": "9t8f2HXN2qwh"
      },
      "outputs": [],
      "source": [
        "def solution(phone_book):\n",
        "    '''\n",
        "    nums_dict = dict()\n",
        "    \n",
        "    for number in phone_book:\n",
        "        nums_dict[number] = 1\n",
        "    \n",
        "    for number in phone_book:\n",
        "        temp = ''\n",
        "        for num in number[:-1]:\n",
        "            temp += num\n",
        "            if temp in nums_dict:\n",
        "                return False\n",
        "        \n",
        "    '''\n",
        "    phone_book.sort()\n",
        "    for p1, p2 in zip(phone_book,phone_book[1:]):\n",
        "        if p2.startswith(p1):\n",
        "            return False\n",
        "        \n",
        "\n",
        "    answer = True\n",
        "    return answer"
      ]
    },
    {
      "cell_type": "markdown",
      "source": [
        "# 위장"
      ],
      "metadata": {
        "id": "pQMVTzSG22_t"
      }
    },
    {
      "cell_type": "code",
      "source": [
        "def solution(clothes):\n",
        "    clo_dict = {}\n",
        "    \n",
        "    for li in clothes:\n",
        "        if li[1] in clo_dict:\n",
        "            clo_dict[li[1]] +=1\n",
        "        else:\n",
        "            clo_dict[li[1]] = 1\n",
        "    \n",
        "    answer = 1\n",
        "    for key, value in clo_dict.items():\n",
        "        answer *= (value + 1)\n",
        "    return answer"
      ],
      "metadata": {
        "id": "hwOjENSh4gEe"
      },
      "execution_count": null,
      "outputs": []
    },
    {
      "cell_type": "markdown",
      "source": [
        "# 베스트 엘범"
      ],
      "metadata": {
        "id": "sJShRpLSIsN7"
      }
    },
    {
      "cell_type": "code",
      "source": [
        "# test 2,15 통과 실패 : 장르별로 같은 재생횟수가 있을 경우 먼저 나온 것이 발매되어야 한다.\n",
        "def solution(genres, plays):\n",
        "    \n",
        "    numbers_dict = {}\n",
        "    for i in range(len(plays)):\n",
        "        numbers_dict[plays[i]] = i\n",
        "        \n",
        "    \n",
        "    genre_dict = {}\n",
        "    for genre, play in zip(genres, plays):\n",
        "        if genre not in genre_dict:\n",
        "            genre_dict[genre] = [play]\n",
        "        else :\n",
        "            genre_dict[genre].append(play)\n",
        "    \n",
        "    selected = []\n",
        "    for value in genre_dict.values() :\n",
        "        insert = sorted(value,reverse=True)\n",
        "        selected.append(insert)\n",
        "        \n",
        "    selected = sorted(selected,key=lambda x: sum(x),reverse=True)\n",
        "        \n",
        "    answer = []\n",
        "    for select in selected:\n",
        "        for play in select[:2]:\n",
        "            answer.append(numbers_dict[play])\n",
        "            \n",
        "    return answer"
      ],
      "metadata": {
        "id": "8VjgAhQbVHKL"
      },
      "execution_count": null,
      "outputs": []
    },
    {
      "cell_type": "code",
      "source": [
        "def solution(genres, plays):\n",
        "    \n",
        "    music_dic = {}\n",
        "    for i in range(len(plays)):\n",
        "        if genres[i] not in music_dic:\n",
        "            music_dic[genres[i]] = [[i, plays[i]]]\n",
        "        else:\n",
        "            music_dic[genres[i]].append([i,plays[i]])\n",
        "    #{\"classic\":[[0,500],[2,150],[3,800]],\"pop\":[[1,600],[4,2500]]}\n",
        "    \n",
        "    sorted(music_dic.items(),key= lambda x: sum(lambda y:y[1]))\n",
        "    \n",
        "    \n",
        "    return music_dic"
      ],
      "metadata": {
        "id": "V03HFeZT_Fhm"
      },
      "execution_count": null,
      "outputs": []
    }
  ]
}
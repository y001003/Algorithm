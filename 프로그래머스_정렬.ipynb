{
  "nbformat": 4,
  "nbformat_minor": 0,
  "metadata": {
    "colab": {
      "name": "프로그래머스_정렬.ipynb",
      "provenance": [],
      "authorship_tag": "ABX9TyOdL7IC6XWELZvJ3V4KWjeR",
      "include_colab_link": true
    },
    "kernelspec": {
      "name": "python3",
      "display_name": "Python 3"
    },
    "language_info": {
      "name": "python"
    }
  },
  "cells": [
    {
      "cell_type": "markdown",
      "metadata": {
        "id": "view-in-github",
        "colab_type": "text"
      },
      "source": [
        "<a href=\"https://colab.research.google.com/github/y001003/Algorithm/blob/main/%ED%94%84%EB%A1%9C%EA%B7%B8%EB%9E%98%EB%A8%B8%EC%8A%A4_%EC%A0%95%EB%A0%AC.ipynb\" target=\"_parent\"><img src=\"https://colab.research.google.com/assets/colab-badge.svg\" alt=\"Open In Colab\"/></a>"
      ]
    },
    {
      "cell_type": "code",
      "execution_count": null,
      "metadata": {
        "id": "l2CCrIGavyai"
      },
      "outputs": [],
      "source": [
        "def solution(array, commands):\n",
        "    answer = []\n",
        "    return answer"
      ]
    },
    {
      "cell_type": "markdown",
      "source": [
        "## 1 K번째수"
      ],
      "metadata": {
        "id": "4zAHLYCM2Oia"
      }
    },
    {
      "cell_type": "markdown",
      "source": [
        "\n",
        "\n",
        "```\n",
        "문제 설명\n",
        "배열 array의 i번째 숫자부터 j번째 숫자까지 자르고 정렬했을 때, k번째에 있는 수를 구하려 합니다.\n",
        "\n",
        "예를 들어 array가 [1, 5, 2, 6, 3, 7, 4], i = 2, j = 5, k = 3이라면\n",
        "\n",
        "array의 2번째부터 5번째까지 자르면 [5, 2, 6, 3]입니다.\n",
        "1에서 나온 배열을 정렬하면 [2, 3, 5, 6]입니다.\n",
        "2에서 나온 배열의 3번째 숫자는 5입니다.\n",
        "배열 array, [i, j, k]를 원소로 가진 2차원 배열 commands가 매개변수로 주어질 때, commands의 모든 원소에 대해 앞서 설명한 연산을 적용했을 때 나온 결과를 배열에 담아 return 하도록 solution 함수를 작성해주세요.\n",
        "\n",
        "제한사항\n",
        "array의 길이는 1 이상 100 이하입니다.\n",
        "array의 각 원소는 1 이상 100 이하입니다.\n",
        "commands의 길이는 1 이상 50 이하입니다.\n",
        "commands의 각 원소는 길이가 3입니다.\n",
        "입출력 예\n",
        "array\tcommands\treturn\n",
        "[1, 5, 2, 6, 3, 7, 4]\t[[2, 5, 3], [4, 4, 1], [1, 7, 3]]\t[5, 6, 3]\n",
        "```\n",
        "\n"
      ],
      "metadata": {
        "id": "AAO12dFV2WEK"
      }
    },
    {
      "cell_type": "code",
      "source": [
        "data_list = [1, 5, 2, 6, 3, 7, 4]"
      ],
      "metadata": {
        "id": "bu9B43tAyVbj"
      },
      "execution_count": 7,
      "outputs": []
    },
    {
      "cell_type": "code",
      "source": [
        "def solution(array,i,j,k):\n",
        "    # 1. array 짜르기\n",
        "    select = array[i-1:j]\n",
        "\n",
        "    # 2. 버블정렬\n",
        "    for x in range(len(select)):\n",
        "        for y in range(len(select)-1):\n",
        "            if select[y] > select[y+1]:\n",
        "                select[y],select[y+1] = select[y+1], select[y]\n",
        "    \n",
        "    # 3. 정렬된 리스트 중 k 번째\n",
        "    answer = select[k-1]\n",
        "\n",
        "    return answer"
      ],
      "metadata": {
        "id": "W71v46bKydfO"
      },
      "execution_count": 15,
      "outputs": []
    },
    {
      "cell_type": "code",
      "source": [
        "def solution(array,commands):\n",
        "    answer = []\n",
        "    # commands for 문\n",
        "    for command in commands:\n",
        "        i,j,k = command[0],command[1],command[2]\n",
        "        # 1. array 짜르기\n",
        "        select = array[i-1:j]\n",
        "\n",
        "        # 2. 버블정렬\n",
        "        for x in range(len(select)):\n",
        "            for y in range(len(select)-1):\n",
        "                if select[y] > select[y+1]:\n",
        "                    select[y],select[y+1] = select[y+1], select[y]\n",
        "        \n",
        "        # 3. 정렬된 리스트 중 k 번째\n",
        "        answer.append(select[k-1])\n",
        "\n",
        "    return answer"
      ],
      "metadata": {
        "id": "6pRojlUF0Y_1"
      },
      "execution_count": 20,
      "outputs": []
    },
    {
      "cell_type": "code",
      "source": [
        "# 다른사람의 풀이1\n",
        "def solution(array, commands):\n",
        "    return list(map(lambda x:sorted(array[x[0]-1:x[1]])[x[2]-1], commands))\n",
        "\n",
        "# 다른사람의 풀이2\n",
        "def solution(array, commands):\n",
        "    answer = []\n",
        "    for command in commands:\n",
        "        i,j,k = command\n",
        "        answer.append(list(sorted(array[i-1:j]))[k-1])\n",
        "    return answer"
      ],
      "metadata": {
        "id": "mvZwr6H_10ol"
      },
      "execution_count": null,
      "outputs": []
    },
    {
      "cell_type": "code",
      "source": [
        "solution(data_list,[[2, 5, 3], [4, 4, 1], [1, 7, 3]])"
      ],
      "metadata": {
        "colab": {
          "base_uri": "https://localhost:8080/"
        },
        "id": "EKGUkMXXyyvT",
        "outputId": "2080d9c1-f56e-486c-e2bc-5675cbae8fe5"
      },
      "execution_count": 21,
      "outputs": [
        {
          "output_type": "execute_result",
          "data": {
            "text/plain": [
              "[5, 6, 3]"
            ]
          },
          "metadata": {},
          "execution_count": 21
        }
      ]
    },
    {
      "cell_type": "markdown",
      "source": [
        "## 2. 가장 큰 수\n"
      ],
      "metadata": {
        "id": "WKxw081HzBNL"
      }
    },
    {
      "cell_type": "markdown",
      "source": [
        "\n",
        "\n",
        "```\n",
        "문제 설명\n",
        "0 또는 양의 정수가 주어졌을 때, 정수를 이어 붙여 만들 수 있는 가장 큰 수를 알아내 주세요.\n",
        "\n",
        "예를 들어, 주어진 정수가 [6, 10, 2]라면 [6102, 6210, 1062, 1026, 2610, 2106]를 만들 수 있고, 이중 가장 큰 수는 6210입니다.\n",
        "\n",
        "0 또는 양의 정수가 담긴 배열 numbers가 매개변수로 주어질 때, 순서를 재배치하여 만들 수 있는 가장 큰 수를 문자열로 바꾸어 return 하도록 solution 함수를 작성해주세요.\n",
        "\n",
        "제한 사항\n",
        "numbers의 길이는 1 이상 100,000 이하입니다.\n",
        "numbers의 원소는 0 이상 1,000 이하입니다.\n",
        "정답이 너무 클 수 있으니 문자열로 바꾸어 return 합니다.\n",
        "입출력 예\n",
        "numbers\treturn\n",
        "[6, 10, 2]\t\"6210\"\n",
        "[3, 30, 34, 5, 9]\t\"9534330\"\n",
        "```\n",
        "\n"
      ],
      "metadata": {
        "id": "kpHlaPju2iWo"
      }
    },
    {
      "cell_type": "code",
      "source": [
        "a = [6, 10, 2]"
      ],
      "metadata": {
        "id": "yS2Ue-j83sIy"
      },
      "execution_count": 23,
      "outputs": []
    },
    {
      "cell_type": "code",
      "source": [
        "ans = []\n",
        "for i in a:\n",
        "    ans.append(str(i))\n",
        "\n",
        "print(int(ans[0]+ans[1]+ans[2]))\n",
        "[i for i in ans]\n",
        "num = \"\"\n",
        "for i in ans:\n",
        "    num += i\n",
        "print(num)\n"
      ],
      "metadata": {
        "colab": {
          "base_uri": "https://localhost:8080/"
        },
        "id": "mdBVt1TX36si",
        "outputId": "456cf276-ae74-4f7b-e501-f0eb63e8a7da"
      },
      "execution_count": 32,
      "outputs": [
        {
          "output_type": "stream",
          "name": "stdout",
          "text": [
            "6102\n",
            "6102\n"
          ]
        }
      ]
    },
    {
      "cell_type": "code",
      "source": [
        "from itertools import permutations\n",
        "p = list(permutations(ans))\n"
      ],
      "metadata": {
        "colab": {
          "base_uri": "https://localhost:8080/"
        },
        "id": "RfbBQkvjItUQ",
        "outputId": "32b8cf5c-bf1f-4f89-a07b-e62d3cb63f20"
      },
      "execution_count": 33,
      "outputs": [
        {
          "output_type": "execute_result",
          "data": {
            "text/plain": [
              "[('6', '10', '2'),\n",
              " ('6', '2', '10'),\n",
              " ('10', '6', '2'),\n",
              " ('10', '2', '6'),\n",
              " ('2', '6', '10'),\n",
              " ('2', '10', '6')]"
            ]
          },
          "metadata": {},
          "execution_count": 33
        }
      ]
    },
    {
      "cell_type": "code",
      "source": [
        "answer = []\n",
        "\n",
        "for i in p:\n",
        "    temp = \"\"\n",
        "    for j in i:\n",
        "        temp += j\n",
        "    \n",
        "    answer.append(int(temp))\n",
        "sorted(answer)[-1]"
      ],
      "metadata": {
        "colab": {
          "base_uri": "https://localhost:8080/"
        },
        "id": "o2Q-A6q9K2DA",
        "outputId": "793897db-2c3b-44ab-ffc1-7f889b01de13"
      },
      "execution_count": 37,
      "outputs": [
        {
          "output_type": "execute_result",
          "data": {
            "text/plain": [
              "6210"
            ]
          },
          "metadata": {},
          "execution_count": 37
        }
      ]
    },
    {
      "cell_type": "code",
      "source": [
        "from itertools import permutations\n",
        "def solution(numbers):\n",
        "    # numbers로 만들수 있는 순열 리스트 p\n",
        "    num = []\n",
        "    for i in numbers:\n",
        "        num.append(str(i))\n",
        "    p = list(permutations(num))\n",
        "    \n",
        "    # 각 순열 합치기\n",
        "    ans = []\n",
        "    for i in p:\n",
        "        temp = \"\"\n",
        "        for j in i:\n",
        "            temp += j\n",
        "        ans.append(int(temp))    \n",
        "    \n",
        "    # 합쳐진 수 중에 가장 큰 것\n",
        "    answer = str(sorted(ans)[-1])\n",
        "    return answer"
      ],
      "metadata": {
        "id": "k8bSv08SLrDW"
      },
      "execution_count": 44,
      "outputs": []
    },
    {
      "cell_type": "code",
      "source": [
        "solution([3, 30, 34, 5, 9]\t)"
      ],
      "metadata": {
        "colab": {
          "base_uri": "https://localhost:8080/"
        },
        "id": "EesV9YoOMRNU",
        "outputId": "aebd6488-cc03-4159-804b-c333b6abdcd1"
      },
      "execution_count": 46,
      "outputs": [
        {
          "output_type": "execute_result",
          "data": {
            "text/plain": [
              "9534330"
            ]
          },
          "metadata": {},
          "execution_count": 46
        }
      ]
    },
    {
      "cell_type": "markdown",
      "source": [
        "## 3. H-Index\n",
        "\n",
        "\n",
        "```\n",
        "문제 설명\n",
        "H-Index는 과학자의 생산성과 영향력을 나타내는 지표입니다. 어느 과학자의 H-Index를 나타내는 값인 h를 구하려고 합니다. 위키백과1에 따르면, H-Index는 다음과 같이 구합니다.\n",
        "\n",
        "어떤 과학자가 발표한 논문 n편 중, h번 이상 인용된 논문이 h편 이상이고 나머지 논문이 h번 이하 인용되었다면 h의 최댓값이 이 과학자의 H-Index입니다.\n",
        "\n",
        "어떤 과학자가 발표한 논문의 인용 횟수를 담은 배열 citations가 매개변수로 주어질 때, 이 과학자의 H-Index를 return 하도록 solution 함수를 작성해주세요.\n",
        "\n",
        "제한사항\n",
        "과학자가 발표한 논문의 수는 1편 이상 1,000편 이하입니다.\n",
        "논문별 인용 횟수는 0회 이상 10,000회 이하입니다.\n",
        "입출력 예\n",
        "citations\treturn\n",
        "[3, 0, 6, 1, 5]\t3\n",
        "입출력 예 설명\n",
        "이 과학자가 발표한 논문의 수는 5편이고, 그중 3편의 논문은 3회 이상 인용되었습니다. 그리고 나머지 2편의 논문은 3회 이하 인용되었기 때문에 이 과학자의 H-Index는 3입니다.\n",
        "```\n",
        "\n"
      ],
      "metadata": {
        "id": "UWM5p5IZPNKv"
      }
    },
    {
      "cell_type": "code",
      "source": [
        "def solution(citations):\n",
        "    # 정렬\n",
        "    data = sorted(citations)\n",
        "\n",
        "    for i in range(len(data)):\n",
        "        if data[i] >= len(data[i:]):\n",
        "\n",
        "            if data[i] > len(data[i:]):\n",
        "                return len(data[i:])\n",
        "                \n",
        "            # data[i] == len(data[i:])\n",
        "            return data[i]\n",
        "    \n",
        "    return 0\n",
        "    "
      ],
      "metadata": {
        "id": "h_VCIL7dPToQ"
      },
      "execution_count": 77,
      "outputs": []
    },
    {
      "cell_type": "code",
      "source": [
        "solution([6,4,3,2])"
      ],
      "metadata": {
        "colab": {
          "base_uri": "https://localhost:8080/"
        },
        "id": "JoHP1qFpZF7n",
        "outputId": "c19748d7-0bbf-4e66-9fa9-de52026c0836"
      },
      "execution_count": 78,
      "outputs": [
        {
          "output_type": "stream",
          "name": "stdout",
          "text": [
            "[3, 4, 6]\n"
          ]
        },
        {
          "output_type": "execute_result",
          "data": {
            "text/plain": [
              "3"
            ]
          },
          "metadata": {},
          "execution_count": 78
        }
      ]
    },
    {
      "cell_type": "code",
      "source": [
        "# 다른사람 풀이 1\n",
        "def solution(citations):\n",
        "    citations.sort(reverse=True)\n",
        "    answer = max(map(min, enumerate(citations, start=1)))\n",
        "    return answer"
      ],
      "metadata": {
        "id": "nY-kAQgnZSNs"
      },
      "execution_count": null,
      "outputs": []
    },
    {
      "cell_type": "code",
      "source": [
        "# 다른사람 풀이 2\n",
        "def solution(citations):\n",
        "    cit = sorted(citations)\n",
        "    return max([x for x in range(len(cit)+1) if cit[-x] >= x])"
      ],
      "metadata": {
        "id": "7LDD1XMre3ev"
      },
      "execution_count": null,
      "outputs": []
    },
    {
      "cell_type": "code",
      "source": [
        "citations = [5,6,3,1]\n",
        "for i in enumerate(citations):\n",
        "    print(i)"
      ],
      "metadata": {
        "colab": {
          "base_uri": "https://localhost:8080/"
        },
        "id": "_mnJJ75KdRZh",
        "outputId": "d2e1929b-fb3f-440c-a8aa-99b9d52990ce"
      },
      "execution_count": 81,
      "outputs": [
        {
          "output_type": "stream",
          "name": "stdout",
          "text": [
            "(0, 5)\n",
            "(1, 6)\n",
            "(2, 3)\n",
            "(3, 1)\n"
          ]
        }
      ]
    },
    {
      "cell_type": "code",
      "source": [
        "citations = [5,6,3,1]\n",
        "for i in map(min,enumerate(citations)):\n",
        "    print(i)"
      ],
      "metadata": {
        "colab": {
          "base_uri": "https://localhost:8080/"
        },
        "id": "WcqiLAJ5duSk",
        "outputId": "52222ff9-faad-4e86-e3d8-0a79f76f6732"
      },
      "execution_count": 82,
      "outputs": [
        {
          "output_type": "stream",
          "name": "stdout",
          "text": [
            "0\n",
            "1\n",
            "2\n",
            "1\n"
          ]
        }
      ]
    }
  ]
}
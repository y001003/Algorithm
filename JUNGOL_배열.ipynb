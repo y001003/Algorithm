{
  "nbformat": 4,
  "nbformat_minor": 0,
  "metadata": {
    "colab": {
      "name": "JUNGOL 배열.ipynb",
      "provenance": [],
      "authorship_tag": "ABX9TyPy7Mpl/smTeU6CLJ5rgDUJ",
      "include_colab_link": true
    },
    "kernelspec": {
      "name": "python3",
      "display_name": "Python 3"
    },
    "language_info": {
      "name": "python"
    }
  },
  "cells": [
    {
      "cell_type": "markdown",
      "metadata": {
        "id": "view-in-github",
        "colab_type": "text"
      },
      "source": [
        "<a href=\"https://colab.research.google.com/github/y001003/Algorithm/blob/main/JUNGOL_%EB%B0%B0%EC%97%B4.ipynb\" target=\"_parent\"><img src=\"https://colab.research.google.com/assets/colab-badge.svg\" alt=\"Open In Colab\"/></a>"
      ]
    },
    {
      "cell_type": "markdown",
      "source": [
        "## 1"
      ],
      "metadata": {
        "id": "rbb7fA4Q2SKd"
      }
    },
    {
      "cell_type": "code",
      "execution_count": 4,
      "metadata": {
        "colab": {
          "base_uri": "https://localhost:8080/"
        },
        "id": "C2ucy7L11WvQ",
        "outputId": "38e6c105-c708-46d0-d509-7574d8e99859"
      },
      "outputs": [
        {
          "output_type": "stream",
          "name": "stdout",
          "text": [
            "a b c d\n",
            "abcd\n"
          ]
        }
      ],
      "source": [
        "ipt = input()\n",
        "print(ipt.replace(' ',''))"
      ]
    },
    {
      "cell_type": "markdown",
      "source": [
        "## 2"
      ],
      "metadata": {
        "id": "ogyiOoHe2UXO"
      }
    },
    {
      "cell_type": "code",
      "source": [
        "\n",
        "for i in range(1,11):\n",
        "    print(i,end=' ')"
      ],
      "metadata": {
        "colab": {
          "base_uri": "https://localhost:8080/"
        },
        "id": "lbam4qB92VqV",
        "outputId": "53a34ec0-dbbf-48ec-dce7-9dc5d8ced8a0"
      },
      "execution_count": 12,
      "outputs": [
        {
          "output_type": "stream",
          "name": "stdout",
          "text": [
            "1 2 3 4 5 6 7 8 9 10 "
          ]
        }
      ]
    },
    {
      "cell_type": "markdown",
      "source": [
        "## 3"
      ],
      "metadata": {
        "id": "34lsZ8i94LX_"
      }
    },
    {
      "cell_type": "code",
      "source": [
        "ipt = input().split()\n",
        "for i in range(0,9,3):\n",
        "    print(ipt[i],end=' ')"
      ],
      "metadata": {
        "colab": {
          "base_uri": "https://localhost:8080/"
        },
        "id": "SKF9EzMm4OH7",
        "outputId": "abaf06b7-884b-4c3e-b388-57a2984b69d9"
      },
      "execution_count": 19,
      "outputs": [
        {
          "output_type": "stream",
          "name": "stdout",
          "text": [
            "a b c d e f g h i j\n",
            "a\n",
            "d\n",
            "g\n"
          ]
        }
      ]
    },
    {
      "cell_type": "markdown",
      "source": [
        "## 4"
      ],
      "metadata": {
        "id": "GLklC2825DYq"
      }
    },
    {
      "cell_type": "code",
      "source": [
        "ipt = input().split()\n",
        "for i in range(len(ipt)-1,-1,-1):\n",
        "    \n",
        "    if int(ipt[i]) == 0:\n",
        "        continue\n",
        "    else:\n",
        "        print(int(ipt[i]),end=' ')\n"
      ],
      "metadata": {
        "colab": {
          "base_uri": "https://localhost:8080/"
        },
        "id": "aci_uRGq5E5O",
        "outputId": "2a356f93-f277-4d1a-f91c-bc9ef854cc58"
      },
      "execution_count": 33,
      "outputs": [
        {
          "output_type": "stream",
          "name": "stdout",
          "text": [
            "3 5 0\n",
            "5 3 "
          ]
        }
      ]
    },
    {
      "cell_type": "code",
      "source": [
        "for i in range(10,1,-1):\n",
        "    print(i)"
      ],
      "metadata": {
        "colab": {
          "base_uri": "https://localhost:8080/"
        },
        "id": "CdtzAWhZ5l2p",
        "outputId": "88ce859c-531e-4611-acf2-69a6ce2dc744"
      },
      "execution_count": 22,
      "outputs": [
        {
          "output_type": "stream",
          "name": "stdout",
          "text": [
            "10\n",
            "9\n",
            "8\n",
            "7\n",
            "6\n",
            "5\n",
            "4\n",
            "3\n",
            "2\n"
          ]
        }
      ]
    },
    {
      "cell_type": "markdown",
      "source": [
        "## 5"
      ],
      "metadata": {
        "id": "Fc_1KmiA8OOt"
      }
    },
    {
      "cell_type": "code",
      "source": [
        "li = [85.6, 79.5, 83.1, 80.0, 78.2, 75.0]\n",
        "ipt = list(map(int,input().split()))\n",
        "print(li[ipt[0]-1]+li[ipt[1]-1])"
      ],
      "metadata": {
        "colab": {
          "base_uri": "https://localhost:8080/"
        },
        "id": "86WoUz0s8O79",
        "outputId": "760209ac-431c-4044-e176-0c7a05a78a91"
      },
      "execution_count": 40,
      "outputs": [
        {
          "output_type": "stream",
          "name": "stdout",
          "text": [
            "1 3\n",
            "168.7\n"
          ]
        }
      ]
    },
    {
      "cell_type": "markdown",
      "source": [
        "## 6"
      ],
      "metadata": {
        "id": "0rlHZ5C7-wLx"
      }
    },
    {
      "cell_type": "code",
      "source": [
        "ipt = list(map(int,input().split()))\n",
        "print(min(ipt))"
      ],
      "metadata": {
        "colab": {
          "base_uri": "https://localhost:8080/"
        },
        "id": "sGQs8Ngm-x17",
        "outputId": "26ee0d33-3978-4ff9-9ad0-41472b7f3f76"
      },
      "execution_count": 41,
      "outputs": [
        {
          "output_type": "stream",
          "name": "stdout",
          "text": [
            "5 10 8 55 6 31 12 24 61 2\n",
            "2\n"
          ]
        }
      ]
    },
    {
      "cell_type": "markdown",
      "source": [
        "## 7 다른사람 코드 궁금"
      ],
      "metadata": {
        "id": "kXuckt3K_AM7"
      }
    },
    {
      "cell_type": "code",
      "source": [
        "ipt = list(map(int,input().split()))\n",
        "ipt.sort()\n",
        "for i in range(len(ipt)):\n",
        "    if ipt[i] >= 100:\n",
        "        if i == 0:\n",
        "            print(100,int(ipt[i]))\n",
        "            break\n",
        "        print(int(ipt[i-1]),int(ipt[i]))\n",
        "        break\n",
        "    # 100 넘는 경우 없을 때 \n",
        "    elif i == (len(ipt)-1):\n",
        "        print(ipt[i],100)\n"
      ],
      "metadata": {
        "colab": {
          "base_uri": "https://localhost:8080/"
        },
        "id": "wCywWvsX_CDb",
        "outputId": "2e3ff8af-b722-4d28-ad86-5988b5c07ab8"
      },
      "execution_count": 47,
      "outputs": [
        {
          "output_type": "stream",
          "name": "stdout",
          "text": [
            "26 19 45 89 65 66 92 87 81 29\n",
            "92 100\n"
          ]
        }
      ]
    }
  ]
}
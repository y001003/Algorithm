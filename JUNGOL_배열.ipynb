{
  "nbformat": 4,
  "nbformat_minor": 0,
  "metadata": {
    "colab": {
      "name": "JUNGOL 배열.ipynb",
      "provenance": [],
      "authorship_tag": "ABX9TyM4EnutwIB8a1Z+5uzlKX8h",
      "include_colab_link": true
    },
    "kernelspec": {
      "name": "python3",
      "display_name": "Python 3"
    },
    "language_info": {
      "name": "python"
    }
  },
  "cells": [
    {
      "cell_type": "markdown",
      "metadata": {
        "id": "view-in-github",
        "colab_type": "text"
      },
      "source": [
        "<a href=\"https://colab.research.google.com/github/y001003/Algorithm/blob/main/JUNGOL_%EB%B0%B0%EC%97%B4.ipynb\" target=\"_parent\"><img src=\"https://colab.research.google.com/assets/colab-badge.svg\" alt=\"Open In Colab\"/></a>"
      ]
    },
    {
      "cell_type": "markdown",
      "source": [
        "# 배열1-자가평가"
      ],
      "metadata": {
        "id": "eRMnmvtjTlbO"
      }
    },
    {
      "cell_type": "markdown",
      "source": [
        "## 1"
      ],
      "metadata": {
        "id": "rbb7fA4Q2SKd"
      }
    },
    {
      "cell_type": "code",
      "execution_count": null,
      "metadata": {
        "colab": {
          "base_uri": "https://localhost:8080/"
        },
        "id": "C2ucy7L11WvQ",
        "outputId": "38e6c105-c708-46d0-d509-7574d8e99859"
      },
      "outputs": [
        {
          "output_type": "stream",
          "name": "stdout",
          "text": [
            "a b c d\n",
            "abcd\n"
          ]
        }
      ],
      "source": [
        "ipt = input()\n",
        "print(ipt.replace(' ',''))"
      ]
    },
    {
      "cell_type": "markdown",
      "source": [
        "## 2"
      ],
      "metadata": {
        "id": "ogyiOoHe2UXO"
      }
    },
    {
      "cell_type": "code",
      "source": [
        "\n",
        "for i in range(1,11):\n",
        "    print(i,end=' ')"
      ],
      "metadata": {
        "colab": {
          "base_uri": "https://localhost:8080/"
        },
        "id": "lbam4qB92VqV",
        "outputId": "53a34ec0-dbbf-48ec-dce7-9dc5d8ced8a0"
      },
      "execution_count": null,
      "outputs": [
        {
          "output_type": "stream",
          "name": "stdout",
          "text": [
            "1 2 3 4 5 6 7 8 9 10 "
          ]
        }
      ]
    },
    {
      "cell_type": "markdown",
      "source": [
        "## 3"
      ],
      "metadata": {
        "id": "34lsZ8i94LX_"
      }
    },
    {
      "cell_type": "code",
      "source": [
        "ipt = input().split()\n",
        "for i in range(0,9,3):\n",
        "    print(ipt[i],end=' ')"
      ],
      "metadata": {
        "colab": {
          "base_uri": "https://localhost:8080/"
        },
        "id": "SKF9EzMm4OH7",
        "outputId": "abaf06b7-884b-4c3e-b388-57a2984b69d9"
      },
      "execution_count": null,
      "outputs": [
        {
          "output_type": "stream",
          "name": "stdout",
          "text": [
            "a b c d e f g h i j\n",
            "a\n",
            "d\n",
            "g\n"
          ]
        }
      ]
    },
    {
      "cell_type": "markdown",
      "source": [
        "## 4"
      ],
      "metadata": {
        "id": "GLklC2825DYq"
      }
    },
    {
      "cell_type": "code",
      "source": [
        "ipt = input().split()\n",
        "for i in range(len(ipt)-1,-1,-1):\n",
        "    \n",
        "    if int(ipt[i]) == 0:\n",
        "        continue\n",
        "    else:\n",
        "        print(int(ipt[i]),end=' ')\n"
      ],
      "metadata": {
        "colab": {
          "base_uri": "https://localhost:8080/"
        },
        "id": "aci_uRGq5E5O",
        "outputId": "2a356f93-f277-4d1a-f91c-bc9ef854cc58"
      },
      "execution_count": null,
      "outputs": [
        {
          "output_type": "stream",
          "name": "stdout",
          "text": [
            "3 5 0\n",
            "5 3 "
          ]
        }
      ]
    },
    {
      "cell_type": "code",
      "source": [
        "for i in range(10,1,-1):\n",
        "    print(i)"
      ],
      "metadata": {
        "colab": {
          "base_uri": "https://localhost:8080/"
        },
        "id": "CdtzAWhZ5l2p",
        "outputId": "88ce859c-531e-4611-acf2-69a6ce2dc744"
      },
      "execution_count": null,
      "outputs": [
        {
          "output_type": "stream",
          "name": "stdout",
          "text": [
            "10\n",
            "9\n",
            "8\n",
            "7\n",
            "6\n",
            "5\n",
            "4\n",
            "3\n",
            "2\n"
          ]
        }
      ]
    },
    {
      "cell_type": "markdown",
      "source": [
        "## 5"
      ],
      "metadata": {
        "id": "Fc_1KmiA8OOt"
      }
    },
    {
      "cell_type": "code",
      "source": [
        "li = [85.6, 79.5, 83.1, 80.0, 78.2, 75.0]\n",
        "ipt = list(map(int,input().split()))\n",
        "print(li[ipt[0]-1]+li[ipt[1]-1])"
      ],
      "metadata": {
        "colab": {
          "base_uri": "https://localhost:8080/"
        },
        "id": "86WoUz0s8O79",
        "outputId": "760209ac-431c-4044-e176-0c7a05a78a91"
      },
      "execution_count": null,
      "outputs": [
        {
          "output_type": "stream",
          "name": "stdout",
          "text": [
            "1 3\n",
            "168.7\n"
          ]
        }
      ]
    },
    {
      "cell_type": "markdown",
      "source": [
        "## 6"
      ],
      "metadata": {
        "id": "0rlHZ5C7-wLx"
      }
    },
    {
      "cell_type": "code",
      "source": [
        "ipt = list(map(int,input().split()))\n",
        "print(min(ipt))"
      ],
      "metadata": {
        "colab": {
          "base_uri": "https://localhost:8080/"
        },
        "id": "sGQs8Ngm-x17",
        "outputId": "26ee0d33-3978-4ff9-9ad0-41472b7f3f76"
      },
      "execution_count": null,
      "outputs": [
        {
          "output_type": "stream",
          "name": "stdout",
          "text": [
            "5 10 8 55 6 31 12 24 61 2\n",
            "2\n"
          ]
        }
      ]
    },
    {
      "cell_type": "markdown",
      "source": [
        "## 7 다른사람 코드 궁금"
      ],
      "metadata": {
        "id": "kXuckt3K_AM7"
      }
    },
    {
      "cell_type": "code",
      "source": [
        "ipt = list(map(int,input().split()))\n",
        "ipt.sort()\n",
        "for i in range(len(ipt)):\n",
        "    if ipt[i] >= 100:\n",
        "        if i == 0:\n",
        "            print(100,int(ipt[i]))\n",
        "            break\n",
        "        print(int(ipt[i-1]),int(ipt[i]))\n",
        "        break\n",
        "    # 100 넘는 경우 없을 때 \n",
        "    elif i == (len(ipt)-1):\n",
        "        print(ipt[i],100)\n"
      ],
      "metadata": {
        "colab": {
          "base_uri": "https://localhost:8080/"
        },
        "id": "wCywWvsX_CDb",
        "outputId": "2e3ff8af-b722-4d28-ad86-5988b5c07ab8"
      },
      "execution_count": null,
      "outputs": [
        {
          "output_type": "stream",
          "name": "stdout",
          "text": [
            "26 19 45 89 65 66 92 87 81 29\n",
            "92 100\n"
          ]
        }
      ]
    },
    {
      "cell_type": "markdown",
      "source": [
        "## 8"
      ],
      "metadata": {
        "id": "NQngJttAQKPF"
      }
    },
    {
      "cell_type": "code",
      "source": [
        "ipt = list(map(int,input().split()))\n",
        "sum = 0\n",
        "avg = 0\n",
        "count = 0\n",
        "for i in range(len(ipt)):\n",
        "    # 짝수번째\n",
        "    if i % 2 == 1:\n",
        "        sum += ipt[i]\n",
        "    else :\n",
        "        avg += ipt[i]\n",
        "        count += 1\n",
        "print(f'sum : {sum}\\navg : {round(avg/count,1)}')\n"
      ],
      "metadata": {
        "id": "ypYtxFUDQo2b",
        "outputId": "8840a48f-829e-4a3e-fb65-0424cc707c70",
        "colab": {
          "base_uri": "https://localhost:8080/"
        }
      },
      "execution_count": null,
      "outputs": [
        {
          "output_type": "stream",
          "name": "stdout",
          "text": [
            "10 11 12 13 14 15 16\n",
            "sum : 39\n",
            "avg : 13.0\n"
          ]
        }
      ]
    },
    {
      "cell_type": "markdown",
      "source": [
        "## 9"
      ],
      "metadata": {
        "id": "s2GgAsH3SfVF"
      }
    },
    {
      "cell_type": "code",
      "source": [
        "ipt = list(map(int,input().split()))\n",
        "ipt.sort(reverse=True)\n",
        "for i in range(len(ipt)):\n",
        "    print(ipt[i],end=' ')"
      ],
      "metadata": {
        "id": "e4o-npuCShN1",
        "outputId": "fc95304e-8aa8-4f20-8283-92e70f43a648",
        "colab": {
          "base_uri": "https://localhost:8080/"
        }
      },
      "execution_count": null,
      "outputs": [
        {
          "output_type": "stream",
          "name": "stdout",
          "text": [
            "10 20 30\n",
            "30 20 10 "
          ]
        }
      ]
    },
    {
      "cell_type": "markdown",
      "source": [
        "# 배열1 - 형성 1\n"
      ],
      "metadata": {
        "id": "bnMEaVtwTZLs"
      }
    },
    {
      "cell_type": "markdown",
      "source": [
        "## 1"
      ],
      "metadata": {
        "id": "AMZbVVANTd0v"
      }
    },
    {
      "cell_type": "code",
      "source": [
        "ipt = list(input().split())\n",
        "for i in range(len(ipt)-1,-1,-1):\n",
        "    print(ipt[i],end=' ')"
      ],
      "metadata": {
        "id": "fEAcLoh-TtJ8",
        "outputId": "9ce6901d-60e0-4cbc-c351-c04d3abeaf90",
        "colab": {
          "base_uri": "https://localhost:8080/"
        }
      },
      "execution_count": null,
      "outputs": [
        {
          "output_type": "stream",
          "name": "stdout",
          "text": [
            "10 20 30 50 24 5\n",
            "5 24 50 30 20 10 "
          ]
        }
      ]
    },
    {
      "cell_type": "markdown",
      "source": [
        "## 2"
      ],
      "metadata": {
        "id": "ai3ytObZUIy4"
      }
    },
    {
      "cell_type": "code",
      "source": [
        "ipt = list(map(int,input().split()))\n",
        "sum = 0\n",
        "for i in range(len(ipt)):\n",
        "    if i % 2 ==1 :\n",
        "        continue\n",
        "    else:\n",
        "        sum += ipt[i]\n",
        "print(sum)"
      ],
      "metadata": {
        "id": "VBmg6db7UJiM",
        "outputId": "896389f5-5208-481b-ff9e-328be4d26b6f",
        "colab": {
          "base_uri": "https://localhost:8080/"
        }
      },
      "execution_count": null,
      "outputs": [
        {
          "output_type": "stream",
          "name": "stdout",
          "text": [
            "15 20 33 10 9\n",
            "57\n"
          ]
        }
      ]
    },
    {
      "cell_type": "markdown",
      "source": [
        "## 3"
      ],
      "metadata": {
        "id": "Xj6jILaNXfyN"
      }
    },
    {
      "cell_type": "code",
      "source": [
        "ipt = list(map(int,input().split()))\n",
        "even = 0\n",
        "odd = 0\n",
        "\n",
        "for i in range(len(ipt)):\n",
        "    # 짝수번째\n",
        "    if i % 2 == 1:\n",
        "        even += ipt[i]\n",
        "    else :\n",
        "        odd += ipt[i]\n",
        "        \n",
        "print(f'odd : {odd}\\neven : {even}')"
      ],
      "metadata": {
        "id": "NuGOGWaZXg0f",
        "outputId": "f8db762e-8b11-4010-d703-7b53af07d2f5",
        "colab": {
          "base_uri": "https://localhost:8080/"
        }
      },
      "execution_count": null,
      "outputs": [
        {
          "output_type": "stream",
          "name": "stdout",
          "text": [
            "10 20 25 66 83 7 22 90 1 100\n",
            "odd : 141\n",
            "even : 283\n"
          ]
        }
      ]
    },
    {
      "cell_type": "markdown",
      "source": [
        "## 4"
      ],
      "metadata": {
        "id": "k4AV6_bgYDTG"
      }
    },
    {
      "cell_type": "code",
      "source": [
        "ipt = list(map(int,input().split()))\n",
        "\n",
        "for i in range(len(ipt)):\n",
        "    if ipt[i] == -1:\n",
        "        if i < 3:\n",
        "            for j in ipt[:-1]:\n",
        "                print(j,end=' ')\n",
        "            break\n",
        "        print(ipt[i-3],ipt[i-2],ipt[i-1])\n",
        "        break\n",
        "    "
      ],
      "metadata": {
        "id": "JQqK7C2KYE8q",
        "outputId": "0a06bc19-55aa-4b56-dcf0-6ae223ea0871",
        "colab": {
          "base_uri": "https://localhost:8080/"
        }
      },
      "execution_count": null,
      "outputs": [
        {
          "output_type": "stream",
          "name": "stdout",
          "text": [
            "30 20 -1\n",
            "30 20 "
          ]
        }
      ]
    },
    {
      "cell_type": "code",
      "source": [
        "list_input = list(map(int, input().split()))\n",
        "\n",
        "for i in range(3, 0, -1):\n",
        "    if list_input.index(-1) - i >= 0:\n",
        "        print(list_input[list_input.index(-1) - i], end=\" \")\n",
        "===================================\n",
        "list_input = list(map(int, input().split()))\n",
        "\n",
        "for j in range(3, 0, -1):\n",
        "    if list_input.index(-1) - j >= 0:\n",
        "        for i in range(j, 0, -1):\n",
        "            print(list_input[list_input.index(-1) - i], end=\" \")"
      ],
      "metadata": {
        "id": "8DWkhstADWxL"
      },
      "execution_count": null,
      "outputs": []
    },
    {
      "cell_type": "markdown",
      "source": [
        "## 5"
      ],
      "metadata": {
        "id": "ZpeNyWtiZRdz"
      }
    },
    {
      "cell_type": "code",
      "source": [
        "ipt = list(map(float,input().split()))\n",
        "sum = 0\n",
        "count = 0\n",
        "for i in ipt:\n",
        "    sum += i\n",
        "print(round(sum/len(ipt),1))"
      ],
      "metadata": {
        "id": "gYNKUUpEZS6H",
        "outputId": "2358f72e-b18b-4e49-c271-32d0c751327b",
        "colab": {
          "base_uri": "https://localhost:8080/"
        }
      },
      "execution_count": null,
      "outputs": [
        {
          "output_type": "stream",
          "name": "stdout",
          "text": [
            "23.2 39.6 66.4 50 45.6 48\n",
            "45.5\n"
          ]
        }
      ]
    },
    {
      "cell_type": "markdown",
      "source": [
        "## 6 다른사람 궁금"
      ],
      "metadata": {
        "id": "JL31urhjaT1Q"
      }
    },
    {
      "cell_type": "code",
      "source": [
        "li = ['J', 'U', 'N', 'G', 'O', 'L']\n",
        "ipt = input()\n",
        "for i in range(len(li)):\n",
        "    if ipt == li[i]:\n",
        "        print(i)\n",
        "        break\n",
        "\n",
        "    if ( ipt != li[i] ) and ( i == len(li)-1 ):\n",
        "        print('none')\n",
        "    \n",
        "\n"
      ],
      "metadata": {
        "id": "ppd2ZTbjaVJW",
        "outputId": "858bf7e3-c0e6-4289-abee-f39343299a4f",
        "colab": {
          "base_uri": "https://localhost:8080/"
        }
      },
      "execution_count": null,
      "outputs": [
        {
          "output_type": "stream",
          "name": "stdout",
          "text": [
            "L\n",
            "5\n"
          ]
        }
      ]
    },
    {
      "cell_type": "markdown",
      "source": [
        "## 7"
      ],
      "metadata": {
        "id": "UuggM4YrdF69"
      }
    },
    {
      "cell_type": "code",
      "source": [
        "ipt = list(map(int,input().split()))\n",
        "\n",
        "for i in range(len(ipt)):\n",
        "    if ipt[i] == 999:\n",
        "        print(f'max : {max(ipt[:-1])}\\nmin : {min(ipt)}')\n",
        "        break"
      ],
      "metadata": {
        "id": "k8fTvrBWdHcO",
        "outputId": "6995cf98-1678-416f-dc1a-cbaef4e21f84",
        "colab": {
          "base_uri": "https://localhost:8080/"
        }
      },
      "execution_count": null,
      "outputs": [
        {
          "output_type": "stream",
          "name": "stdout",
          "text": [
            "45 19 123 58 10 -55 16 -1 999\n",
            "max : 123\n",
            "min : -55\n"
          ]
        }
      ]
    },
    {
      "cell_type": "markdown",
      "source": [
        "## 8"
      ],
      "metadata": {
        "id": "YjvilbI7gXGQ"
      }
    },
    {
      "cell_type": "code",
      "source": [
        "ipt = list(map(int,input().split()))\n",
        "count = 0\n",
        "sum = 0\n",
        "for i in range(len(ipt)):\n",
        "    if (ipt[i] % 5 ==0) and (ipt[i] != 0):\n",
        "        count += 1\n",
        "        sum += ipt[i]\n",
        "        \n",
        "    if ipt[i] == 0:\n",
        "        print(f'Multiples of 5 : {count}\\nsum : {sum}\\navg : {round(sum/count,1)}')\n",
        "        break"
      ],
      "metadata": {
        "id": "Cz3xoIFkgYYo",
        "outputId": "0ef04b0f-c6b8-4590-d6c0-eec95fa50279",
        "colab": {
          "base_uri": "https://localhost:8080/"
        }
      },
      "execution_count": null,
      "outputs": [
        {
          "output_type": "stream",
          "name": "stdout",
          "text": [
            "35 10 23 100 64 51 5 0\n",
            "Multiples of 5 : 4\n",
            "sum : 150\n",
            "avg : 37.5\n"
          ]
        }
      ]
    },
    {
      "cell_type": "markdown",
      "source": [
        "## 9"
      ],
      "metadata": {
        "id": "_9-EYNtUhfD0"
      }
    },
    {
      "cell_type": "code",
      "source": [
        "ipt = list(map(int,input().split()))\n",
        "count = 0\n",
        "sum = 0\n",
        "for i in range(len(ipt)):\n",
        "    count += 1\n",
        "    if ipt[i] == 0:\n",
        "        print(count-1)\n",
        "        break    \n",
        "for i in range(len(ipt[:count-1])):\n",
        "\n",
        "    if ipt[i] %2 ==1:\n",
        "        print(int(ipt[i]*2),end=' ')\n",
        "    else :\n",
        "        print(int(ipt[i]/2),end=' ')\n",
        "       \n"
      ],
      "metadata": {
        "id": "_AU8TxREhgM9",
        "outputId": "52b0add1-8082-4f37-9c5c-673176cfe75a",
        "colab": {
          "base_uri": "https://localhost:8080/"
        }
      },
      "execution_count": null,
      "outputs": [
        {
          "output_type": "stream",
          "name": "stdout",
          "text": [
            "8 10 5 15 100 0\n",
            "5\n",
            "4 5 10 30 50 "
          ]
        }
      ]
    },
    {
      "cell_type": "markdown",
      "source": [
        "## 10\n"
      ],
      "metadata": {
        "id": "TRCu3pmEjdvq"
      }
    },
    {
      "cell_type": "code",
      "source": [
        "n = int(input())\n",
        "l = list(map(int,input().split()))\n",
        "l.sort(reverse=True)\n",
        "for i in l:\n",
        "    print(i)"
      ],
      "metadata": {
        "id": "RCBzqIZ8jeyK",
        "outputId": "e7b2b245-d2a3-4b70-934b-1b9b7a30c535",
        "colab": {
          "base_uri": "https://localhost:8080/"
        }
      },
      "execution_count": null,
      "outputs": [
        {
          "output_type": "stream",
          "name": "stdout",
          "text": [
            "5\n",
            "35 10 35 100 64\n",
            "100\n",
            "64\n",
            "35\n",
            "35\n",
            "10\n",
            "[100, 64, 35, 35, 10]\n"
          ]
        }
      ]
    },
    {
      "cell_type": "code",
      "source": [
        "li = [10, 20 ,30]\n",
        "li[:2]"
      ],
      "metadata": {
        "id": "a0FWWh2xRxAM",
        "outputId": "7a481239-1be3-40e1-c290-e6d7ff3a5243",
        "colab": {
          "base_uri": "https://localhost:8080/"
        }
      },
      "execution_count": 1,
      "outputs": [
        {
          "output_type": "execute_result",
          "data": {
            "text/plain": [
              "[10, 20]"
            ]
          },
          "metadata": {},
          "execution_count": 1
        }
      ]
    },
    {
      "cell_type": "code",
      "source": [
        "li = []\n",
        "li2 = []\n",
        "a = 0\n",
        "b = 0\n",
        "for i in range(4):\n",
        "    li.append(list(map(int,input().split())))\n",
        "for i in li:\n",
        "    li2.append(int(sum(i)/2))\n",
        "    a += i[0]\n",
        "    b += i[1]\n",
        "print(*li2)\n",
        "print(int(a/4), int(b/4))\n",
        "print(int((a+b)/8))\n",
        "    "
      ],
      "metadata": {
        "id": "c5GImKNiE-Mf",
        "outputId": "46483f38-ac19-4833-fab9-675b3d1e2684",
        "colab": {
          "base_uri": "https://localhost:8080/"
        }
      },
      "execution_count": 9,
      "outputs": [
        {
          "output_type": "stream",
          "name": "stdout",
          "text": [
            "16 27\n",
            "39 100\n",
            "19 88\n",
            "61 20\n",
            "21 69 53 40\n",
            "67 117\n",
            "46\n"
          ]
        }
      ]
    },
    {
      "cell_type": "code",
      "source": [
        ""
      ],
      "metadata": {
        "id": "ZaRb94LTE9MU"
      },
      "execution_count": null,
      "outputs": []
    }
  ]
}
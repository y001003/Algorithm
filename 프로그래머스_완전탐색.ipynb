{
  "nbformat": 4,
  "nbformat_minor": 0,
  "metadata": {
    "colab": {
      "name": "프로그래머스_완전탐색.ipynb",
      "provenance": [],
      "authorship_tag": "ABX9TyPfYIBMlRLsOyN7whm1SOpb",
      "include_colab_link": true
    },
    "kernelspec": {
      "name": "python3",
      "display_name": "Python 3"
    },
    "language_info": {
      "name": "python"
    }
  },
  "cells": [
    {
      "cell_type": "markdown",
      "metadata": {
        "id": "view-in-github",
        "colab_type": "text"
      },
      "source": [
        "<a href=\"https://colab.research.google.com/github/y001003/Algorithm/blob/main/%ED%94%84%EB%A1%9C%EA%B7%B8%EB%9E%98%EB%A8%B8%EC%8A%A4_%EC%99%84%EC%A0%84%ED%83%90%EC%83%89.ipynb\" target=\"_parent\"><img src=\"https://colab.research.google.com/assets/colab-badge.svg\" alt=\"Open In Colab\"/></a>"
      ]
    },
    {
      "cell_type": "code",
      "execution_count": 11,
      "metadata": {
        "id": "-lnn0n42o1VM"
      },
      "outputs": [],
      "source": [
        "a = [1,2,3,4,5]\n",
        "b = [2,1,2,3,2,4,2,5]\n",
        "c = [3,3,1,1,2,2,4,4,5,5]\n",
        "quest = [1,3,2,4,2,1,3,2,4,]"
      ]
    },
    {
      "cell_type": "code",
      "source": [
        "ipt = quest\n",
        "ipt"
      ],
      "metadata": {
        "colab": {
          "base_uri": "https://localhost:8080/"
        },
        "id": "AhdaakQtqzl-",
        "outputId": "313a18c3-dd74-45b3-a90d-d968ee23cd6c"
      },
      "execution_count": 17,
      "outputs": [
        {
          "output_type": "execute_result",
          "data": {
            "text/plain": [
              "[1, 3, 2, 4, 2, 1, 3, 2, 4]"
            ]
          },
          "metadata": {},
          "execution_count": 17
        }
      ]
    },
    {
      "cell_type": "code",
      "source": [
        ""
      ],
      "metadata": {
        "id": "ZJoNdDPMsVvV"
      },
      "execution_count": 17,
      "outputs": []
    },
    {
      "cell_type": "code",
      "source": [
        "# 각 리스트에 곱할 값, 소수점이 나올경우를 대비해 1을 더한다\n",
        "mul_a = ( len(ipt)//len(a) ) + 1\n",
        "mul_b = ( len(ipt)//len(b) ) + 1\n",
        "mul_c = ( len(ipt)//len(c) ) + 1\n",
        "\n",
        "# 정답지\n",
        "ans_a = mul_a * a\n",
        "ans_b = mul_b * b\n",
        "ans_c = mul_c * c\n",
        "\n",
        "# 맞춘 갯수\n",
        "cnt_a = 0\n",
        "cnt_b = 0\n",
        "cnt_c = 0\n",
        "\n",
        "match = {1:cnt_a,2:cnt_b,3:cnt_c}\n",
        "print(ipt)\n",
        "for i in range(len(ipt)):\n",
        "    if ipt[i] == ans_a[i]:\n",
        "        cnt_a += 1 \n",
        "    if ipt[i] == ans_b[i]:\n",
        "        cnt_b += 1 \n",
        "    if ipt[i] == ans_c[i]:\n",
        "        cnt_c += 1\n",
        "\n",
        "# 가장 많이 맞춘사람 정렬\n",
        "output = {1:cnt_a,2:cnt_b,3:cnt_c}\n",
        "print(output.values())\n",
        "print( sorted(output.values(),reverse=True) )\n",
        "\n",
        "# final = [i.key for i in output]\n",
        "# match.values()\n",
        "# output = [cnt_a,cnt_b,cnt_c]\n",
        "# print(enumerate(output))\n",
        "# p = enumerate(output)\n",
        "# for idx, value in p:\n",
        "#     print(idx, value)\n",
        "# print(p[0])"
      ],
      "metadata": {
        "colab": {
          "base_uri": "https://localhost:8080/"
        },
        "id": "TC3vAaynsCmr",
        "outputId": "3f4fcd3d-995e-4506-e5be-d23a0e7bc562"
      },
      "execution_count": 57,
      "outputs": [
        {
          "output_type": "stream",
          "name": "stdout",
          "text": [
            "[1, 3, 2, 4, 2, 1, 3, 2, 4]\n",
            "dict_values([4, 2, 2])\n",
            "[4, 2, 2]\n"
          ]
        }
      ]
    },
    {
      "cell_type": "code",
      "source": [
        "# enumerate()"
      ],
      "metadata": {
        "id": "B2vmXMMC1H2i"
      },
      "execution_count": null,
      "outputs": []
    },
    {
      "cell_type": "code",
      "source": [
        ""
      ],
      "metadata": {
        "id": "pdyyNDCUweBX"
      },
      "execution_count": null,
      "outputs": []
    }
  ]
}
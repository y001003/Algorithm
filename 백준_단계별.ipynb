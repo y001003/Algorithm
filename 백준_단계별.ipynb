{
  "nbformat": 4,
  "nbformat_minor": 0,
  "metadata": {
    "colab": {
      "name": "백준 단계별.ipynb",
      "provenance": [],
      "authorship_tag": "ABX9TyOqYzN8rh/b+AdVdymADCTS",
      "include_colab_link": true
    },
    "kernelspec": {
      "name": "python3",
      "display_name": "Python 3"
    },
    "language_info": {
      "name": "python"
    }
  },
  "cells": [
    {
      "cell_type": "markdown",
      "metadata": {
        "id": "view-in-github",
        "colab_type": "text"
      },
      "source": [
        "<a href=\"https://colab.research.google.com/github/y001003/Algorithm/blob/main/%EB%B0%B1%EC%A4%80_%EB%8B%A8%EA%B3%84%EB%B3%84.ipynb\" target=\"_parent\"><img src=\"https://colab.research.google.com/assets/colab-badge.svg\" alt=\"Open In Colab\"/></a>"
      ]
    },
    {
      "cell_type": "code",
      "execution_count": 12,
      "metadata": {
        "colab": {
          "base_uri": "https://localhost:8080/"
        },
        "id": "rkCke9TaTkfQ",
        "outputId": "d5c77f65-3899-4152-fe87-c5b49aee844b"
      },
      "outputs": [
        {
          "output_type": "stream",
          "name": "stdout",
          "text": [
            "4 5\n",
            "2 3 4 5 6\n",
            "2 3 4 "
          ]
        }
      ],
      "source": [
        "n, x = map(int, input().split())\n",
        "li = list(map(int, input().split()))\n",
        "for i in li:\n",
        "    if i < x:\n",
        "        print(i,end=\" \")\n"
      ]
    },
    {
      "cell_type": "code",
      "source": [
        "li = []\n",
        "for i in input().split():\n",
        "    li.append(int(i))\n",
        "print(li)"
      ],
      "metadata": {
        "colab": {
          "base_uri": "https://localhost:8080/"
        },
        "id": "_n4bJw2ZUXl1",
        "outputId": "fd603510-ab91-42c2-da16-71c00c48057d"
      },
      "execution_count": 5,
      "outputs": [
        {
          "output_type": "stream",
          "name": "stdout",
          "text": [
            "1 2 3\n",
            "[1, 2, 3]\n"
          ]
        }
      ]
    },
    {
      "cell_type": "code",
      "source": [
        "while True:\n",
        "    try:\n",
        "        a, b = map(int, input().split())\n",
        "        print(a+b)\n",
        "    except:\n",
        "        break\n"
      ],
      "metadata": {
        "colab": {
          "base_uri": "https://localhost:8080/"
        },
        "id": "1hoifLLmZuvn",
        "outputId": "1b1a5653-9eed-44aa-a9ef-26c267a0ed41"
      },
      "execution_count": 15,
      "outputs": [
        {
          "name": "stdout",
          "output_type": "stream",
          "text": [
            "4 5\n",
            "9\n",
            "\n"
          ]
        }
      ]
    },
    {
      "cell_type": "code",
      "source": [
        "x = int(input())\n",
        "temp = x\n",
        "i = 0\n",
        "while True:\n",
        "    try:\n",
        "        \n",
        "        a = int(temp//10)\n",
        "        b = int(temp%10)\n",
        "        \n",
        "        c = a+b\n",
        "        d = int(c%10)\n",
        "\n",
        "        e = b*10 + d\n",
        "        i += 1\n",
        "        if e == x:\n",
        "            break\n",
        "        # print(e)\n",
        "        temp = e\n",
        "        \n",
        "\n",
        "\n",
        "    except:\n",
        "        break\n",
        "print(i)"
      ],
      "metadata": {
        "colab": {
          "base_uri": "https://localhost:8080/"
        },
        "id": "xINe23aBc97L",
        "outputId": "4316defd-b4a8-4e35-a3e1-4a21528e3e39"
      },
      "execution_count": 21,
      "outputs": [
        {
          "output_type": "stream",
          "name": "stdout",
          "text": [
            "26\n",
            "68\n",
            "84\n",
            "42\n",
            "4\n"
          ]
        }
      ]
    },
    {
      "cell_type": "code",
      "source": [
        "n = int(input())\n",
        "li = list(map(int, input().split()))\n",
        "\n",
        "\n",
        "print(min(li),max(li))"
      ],
      "metadata": {
        "colab": {
          "base_uri": "https://localhost:8080/"
        },
        "id": "gMIKpBFci74Z",
        "outputId": "46d30731-22a0-4ffa-c6ee-0219647d56e8"
      },
      "execution_count": 23,
      "outputs": [
        {
          "output_type": "stream",
          "name": "stdout",
          "text": [
            "4\n",
            "4 5 6 7 8\n",
            "8 4\n"
          ]
        }
      ]
    }
  ]
}
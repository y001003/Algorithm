{
  "nbformat": 4,
  "nbformat_minor": 0,
  "metadata": {
    "colab": {
      "name": "백준 단계별.ipynb",
      "provenance": [],
      "authorship_tag": "ABX9TyOgsHzTJesCuwL8x4LByMge",
      "include_colab_link": true
    },
    "kernelspec": {
      "name": "python3",
      "display_name": "Python 3"
    },
    "language_info": {
      "name": "python"
    }
  },
  "cells": [
    {
      "cell_type": "markdown",
      "metadata": {
        "id": "view-in-github",
        "colab_type": "text"
      },
      "source": [
        "<a href=\"https://colab.research.google.com/github/y001003/Algorithm/blob/main/%EB%B0%B1%EC%A4%80_%EB%8B%A8%EA%B3%84%EB%B3%84.ipynb\" target=\"_parent\"><img src=\"https://colab.research.google.com/assets/colab-badge.svg\" alt=\"Open In Colab\"/></a>"
      ]
    },
    {
      "cell_type": "code",
      "execution_count": null,
      "metadata": {
        "colab": {
          "base_uri": "https://localhost:8080/",
          "height": 241
        },
        "id": "rkCke9TaTkfQ",
        "outputId": "43a64e79-b9c4-4cce-cdaf-a605f81e66b4"
      },
      "outputs": [
        {
          "output_type": "error",
          "ename": "TypeError",
          "evalue": "ignored",
          "traceback": [
            "\u001b[0;31m---------------------------------------------------------------------------\u001b[0m",
            "\u001b[0;31mTypeError\u001b[0m                                 Traceback (most recent call last)",
            "\u001b[0;32m<ipython-input-8-9796061c630e>\u001b[0m in \u001b[0;36m<module>\u001b[0;34m()\u001b[0m\n\u001b[0;32m----> 1\u001b[0;31m \u001b[0mn\u001b[0m\u001b[0;34m,\u001b[0m \u001b[0mx\u001b[0m \u001b[0;34m=\u001b[0m \u001b[0mmap\u001b[0m\u001b[0;34m(\u001b[0m\u001b[0mint\u001b[0m\u001b[0;34m,\u001b[0m \u001b[0minput\u001b[0m\u001b[0;34m(\u001b[0m\u001b[0;34m)\u001b[0m\u001b[0;34m.\u001b[0m\u001b[0msplit\u001b[0m\u001b[0;34m(\u001b[0m\u001b[0;34m)\u001b[0m\u001b[0;34m)\u001b[0m\u001b[0;34m\u001b[0m\u001b[0;34m\u001b[0m\u001b[0m\n\u001b[0m\u001b[1;32m      2\u001b[0m \u001b[0mli\u001b[0m \u001b[0;34m=\u001b[0m \u001b[0mlist\u001b[0m\u001b[0;34m(\u001b[0m\u001b[0mmap\u001b[0m\u001b[0;34m(\u001b[0m\u001b[0mint\u001b[0m\u001b[0;34m,\u001b[0m \u001b[0minput\u001b[0m\u001b[0;34m(\u001b[0m\u001b[0;34m)\u001b[0m\u001b[0;34m.\u001b[0m\u001b[0msplit\u001b[0m\u001b[0;34m(\u001b[0m\u001b[0;34m)\u001b[0m\u001b[0;34m)\u001b[0m\u001b[0;34m)\u001b[0m\u001b[0;34m\u001b[0m\u001b[0;34m\u001b[0m\u001b[0m\n\u001b[1;32m      3\u001b[0m \u001b[0;32mfor\u001b[0m \u001b[0mi\u001b[0m \u001b[0;32min\u001b[0m \u001b[0mli\u001b[0m\u001b[0;34m:\u001b[0m\u001b[0;34m\u001b[0m\u001b[0;34m\u001b[0m\u001b[0m\n\u001b[1;32m      4\u001b[0m     \u001b[0;32mif\u001b[0m \u001b[0mi\u001b[0m \u001b[0;34m<\u001b[0m \u001b[0mx\u001b[0m\u001b[0;34m:\u001b[0m\u001b[0;34m\u001b[0m\u001b[0;34m\u001b[0m\u001b[0m\n\u001b[1;32m      5\u001b[0m         \u001b[0mprint\u001b[0m\u001b[0;34m(\u001b[0m\u001b[0mi\u001b[0m\u001b[0;34m,\u001b[0m\u001b[0mend\u001b[0m\u001b[0;34m=\u001b[0m\u001b[0;34m\" \"\u001b[0m\u001b[0;34m)\u001b[0m\u001b[0;34m\u001b[0m\u001b[0;34m\u001b[0m\u001b[0m\n",
            "\u001b[0;31mTypeError\u001b[0m: 'int' object is not callable"
          ]
        }
      ],
      "source": [
        "n, x = map(int, input().split())\n",
        "li = list(map(int, input().split()))\n",
        "for i in li:\n",
        "    if i < x:\n",
        "        print(i,end=\" \")\n"
      ]
    },
    {
      "cell_type": "code",
      "source": [
        "li = []\n",
        "for i in input().split():\n",
        "    li.append(int(i))\n",
        "print(li)"
      ],
      "metadata": {
        "colab": {
          "base_uri": "https://localhost:8080/"
        },
        "id": "_n4bJw2ZUXl1",
        "outputId": "d7a2481c-53e0-43a0-be01-d26e74be3c40"
      },
      "execution_count": null,
      "outputs": [
        {
          "output_type": "stream",
          "name": "stdout",
          "text": [
            "3 4\n",
            "[3, 4]\n"
          ]
        }
      ]
    },
    {
      "cell_type": "code",
      "source": [
        "while True:\n",
        "    try:\n",
        "        a, b = map(int, input().split())\n",
        "        print(a+b)\n",
        "    except:\n",
        "        break\n"
      ],
      "metadata": {
        "colab": {
          "base_uri": "https://localhost:8080/"
        },
        "id": "1hoifLLmZuvn",
        "outputId": "a6528a67-26cf-46f1-8d48-fcb75ec77351"
      },
      "execution_count": null,
      "outputs": [
        {
          "name": "stdout",
          "output_type": "stream",
          "text": [
            "3 4\n",
            "7\n",
            "5 6\n",
            "11\n",
            "\n"
          ]
        }
      ]
    },
    {
      "cell_type": "code",
      "source": [
        "# x = int(input())\n",
        "temp = x\n",
        "i = 0\n",
        "while True:\n",
        "    try:\n",
        "        \n",
        "        a = int(temp//10)\n",
        "        b = int(temp%10)\n",
        "        \n",
        "        c = a+b\n",
        "        d = int(c%10)\n",
        "\n",
        "        e = b*10 + d\n",
        "        i += 1\n",
        "        if e == x:\n",
        "            break\n",
        "        # print(e)\n",
        "        temp = e\n",
        "        \n",
        "\n",
        "\n",
        "    except:\n",
        "        break\n",
        "print(i)"
      ],
      "metadata": {
        "colab": {
          "base_uri": "https://localhost:8080/"
        },
        "id": "xINe23aBc97L",
        "outputId": "72b17955-f07a-4d1f-8c1a-707456c080f9"
      },
      "execution_count": null,
      "outputs": [
        {
          "output_type": "stream",
          "name": "stdout",
          "text": [
            "3\n",
            "60\n"
          ]
        }
      ]
    },
    {
      "cell_type": "code",
      "source": [
        "# n = int(input())\n",
        "li = list(map(int, input().split()))\n",
        "\n",
        "\n",
        "print(min(li),max(li))"
      ],
      "metadata": {
        "colab": {
          "base_uri": "https://localhost:8080/"
        },
        "id": "gMIKpBFci74Z",
        "outputId": "cac1afcd-f1ce-4dd2-a26c-de0d161c4347"
      },
      "execution_count": null,
      "outputs": [
        {
          "output_type": "stream",
          "name": "stdout",
          "text": [
            "2\n",
            "1 2 3\n",
            "1 3\n"
          ]
        }
      ]
    },
    {
      "cell_type": "markdown",
      "source": [
        "## 백준 4단계"
      ],
      "metadata": {
        "id": "wB5KWfdzZUCi"
      }
    },
    {
      "cell_type": "markdown",
      "source": [
        "2번 2562번\n"
      ],
      "metadata": {
        "id": "czneMrHYZYRU"
      }
    },
    {
      "cell_type": "code",
      "source": [
        "i = 0\n",
        "x = 0\n",
        "max = 0\n",
        "min = 0\n",
        "while i <9:\n",
        "    \n",
        "    a = int(input())\n",
        "    if a > max:\n",
        "        max = a\n",
        "        x = i+1\n",
        "    i += 1\n",
        "print(max)\n",
        "print(x)"
      ],
      "metadata": {
        "id": "6OxXMy37ZfyR",
        "outputId": "0f6fc43f-2571-446a-851d-36ede38b5b32",
        "colab": {
          "base_uri": "https://localhost:8080/",
          "height": 241
        }
      },
      "execution_count": null,
      "outputs": [
        {
          "output_type": "error",
          "ename": "TypeError",
          "evalue": "ignored",
          "traceback": [
            "\u001b[0;31m---------------------------------------------------------------------------\u001b[0m",
            "\u001b[0;31mTypeError\u001b[0m                                 Traceback (most recent call last)",
            "\u001b[0;32m<ipython-input-3-f29e5290e566>\u001b[0m in \u001b[0;36m<module>\u001b[0;34m()\u001b[0m\n\u001b[1;32m      4\u001b[0m \u001b[0;34m\u001b[0m\u001b[0m\n\u001b[1;32m      5\u001b[0m \u001b[0;32mfor\u001b[0m \u001b[0mi\u001b[0m \u001b[0;32min\u001b[0m \u001b[0mrange\u001b[0m\u001b[0;34m(\u001b[0m\u001b[0;36m10\u001b[0m\u001b[0;34m)\u001b[0m\u001b[0;34m:\u001b[0m\u001b[0;34m\u001b[0m\u001b[0;34m\u001b[0m\u001b[0m\n\u001b[0;32m----> 6\u001b[0;31m     \u001b[0minput\u001b[0m \u001b[0;34m=\u001b[0m \u001b[0mint\u001b[0m\u001b[0;34m(\u001b[0m\u001b[0minput\u001b[0m\u001b[0;34m(\u001b[0m\u001b[0;34m)\u001b[0m\u001b[0;34m)\u001b[0m\u001b[0;34m\u001b[0m\u001b[0;34m\u001b[0m\u001b[0m\n\u001b[0m\u001b[1;32m      7\u001b[0m     \u001b[0;32mif\u001b[0m \u001b[0mmax\u001b[0m \u001b[0;34m<\u001b[0m \u001b[0minput\u001b[0m \u001b[0;34m:\u001b[0m\u001b[0;34m\u001b[0m\u001b[0;34m\u001b[0m\u001b[0m\n\u001b[1;32m      8\u001b[0m         \u001b[0mmax\u001b[0m \u001b[0;34m=\u001b[0m \u001b[0minput\u001b[0m\u001b[0;34m\u001b[0m\u001b[0;34m\u001b[0m\u001b[0m\n",
            "\u001b[0;31mTypeError\u001b[0m: 'map' object is not callable"
          ]
        }
      ]
    },
    {
      "cell_type": "markdown",
      "source": [
        "3번 2577번"
      ],
      "metadata": {
        "id": "2PoOlGOYrrYx"
      }
    },
    {
      "cell_type": "code",
      "source": [
        "a = int(input())\n",
        "b = int(input())\n",
        "c = int(input())\n",
        "\n",
        "mul = a * b * c\n",
        "str_mul = str(mul)\n",
        "\n",
        "for i in range(10):\n",
        "    print(str_mul.count(str(i)))\n"
      ],
      "metadata": {
        "id": "aIS-4JTlr1gm",
        "outputId": "cc17f98c-9866-4cb9-8fd3-23f31d3f7b83",
        "colab": {
          "base_uri": "https://localhost:8080/"
        }
      },
      "execution_count": 4,
      "outputs": [
        {
          "output_type": "stream",
          "name": "stdout",
          "text": [
            "150\n",
            "266\n",
            "427\n",
            "3\n",
            "1\n",
            "0\n",
            "2\n",
            "0\n",
            "0\n",
            "0\n",
            "2\n",
            "0\n",
            "0\n"
          ]
        }
      ]
    },
    {
      "cell_type": "markdown",
      "source": [
        "4번 3052번\n"
      ],
      "metadata": {
        "id": "RW_h9mMxtz-F"
      }
    },
    {
      "cell_type": "code",
      "source": [
        "L,A,B,C,D = [int(input()) for _ in range(10)]\n"
      ],
      "metadata": {
        "id": "zNxbMrJKt3nb",
        "outputId": "954efb99-bdee-4763-d096-6eadf1a69b10",
        "colab": {
          "base_uri": "https://localhost:8080/"
        }
      },
      "execution_count": 6,
      "outputs": [
        {
          "name": "stdout",
          "output_type": "stream",
          "text": [
            "1\n",
            "2\n",
            "3\n",
            "4\n",
            "5\n"
          ]
        },
        {
          "output_type": "execute_result",
          "data": {
            "text/plain": [
              "1"
            ]
          },
          "metadata": {},
          "execution_count": 6
        }
      ]
    },
    {
      "cell_type": "code",
      "source": [
        "i = 0\n",
        "remain_li = []\n",
        "x = 0\n",
        "while i < 10:\n",
        "    a = int(input())\n",
        "    remain = a %42\n",
        "    i+=1\n",
        "    \n",
        "    if remain_li.count(remain) == 0:\n",
        "        remain_li.append(remain)\n",
        "        # print(remain)\n",
        "        x +=1\n",
        "\n",
        "# print(remain_li)\n",
        "print(x)"
      ],
      "metadata": {
        "id": "YiN1rQtYvjOV",
        "outputId": "d515e86e-d0ba-487d-c1dc-8f5e4e977ab1",
        "colab": {
          "base_uri": "https://localhost:8080/"
        }
      },
      "execution_count": 17,
      "outputs": [
        {
          "output_type": "stream",
          "name": "stdout",
          "text": [
            "39\n",
            "39\n",
            "40\n",
            "40\n",
            "41\n",
            "41\n",
            "42\n",
            "0\n",
            "43\n",
            "1\n",
            "44\n",
            "2\n",
            "82\n",
            "83\n",
            "84\n",
            "85\n",
            "[39, 40, 41, 0, 1, 2]\n",
            "6\n"
          ]
        }
      ]
    },
    {
      "cell_type": "code",
      "source": [
        "li = [int(input()) for _ in range(10)]\n",
        "\n",
        "result = []\n",
        "for i in li:\n",
        "    a = i%42\n",
        "    if a not in result:\n",
        "        result.append(a)\n",
        "print(len(result))\n"
      ],
      "metadata": {
        "id": "qcPnrKLYsvUV",
        "outputId": "1e92959b-a4f6-4add-b976-e9e3ec96c72f",
        "colab": {
          "base_uri": "https://localhost:8080/"
        }
      },
      "execution_count": 4,
      "outputs": [
        {
          "output_type": "stream",
          "name": "stdout",
          "text": [
            "42\n",
            "84\n",
            "252\n",
            "420\n",
            "840\n",
            "126\n",
            "42\n",
            "84\n",
            "420\n",
            "126\n",
            "1\n"
          ]
        }
      ]
    },
    {
      "cell_type": "markdown",
      "source": [
        "5번 1546번"
      ],
      "metadata": {
        "id": "fwPPCO133QQ5"
      }
    },
    {
      "cell_type": "code",
      "source": [
        "n = int(input())\n",
        "li = list(map(int, input().split()))\n",
        "m = max(li)\n",
        "x = 0\n",
        "for i in li:\n",
        "    x += i/m\n",
        "print(x/n * 100)"
      ],
      "metadata": {
        "id": "fheUTCUH3VDr",
        "outputId": "70202e2d-9d64-45d9-f87d-a934bc334220",
        "colab": {
          "base_uri": "https://localhost:8080/"
        }
      },
      "execution_count": 16,
      "outputs": [
        {
          "output_type": "stream",
          "name": "stdout",
          "text": [
            "3\n",
            "40 80 60\n",
            "75.0\n"
          ]
        }
      ]
    },
    {
      "cell_type": "markdown",
      "source": [
        "6번 8958번"
      ],
      "metadata": {
        "id": "UMd3SH2lCCHZ"
      }
    },
    {
      "cell_type": "code",
      "source": [
        "n = int(input())\n",
        "for i in range(n):\n",
        "    quiz = input()\n",
        "    x = 0\n",
        "    result = 0\n",
        "\n",
        "    for j in quiz:\n",
        "        if j == 'O' :\n",
        "            x += 1\n",
        "            result += x\n",
        "            \n",
        "        else :\n",
        "            x = 0\n",
        "    print(result)\n"
      ],
      "metadata": {
        "id": "DmADtoARCG6m",
        "outputId": "b82a760c-bb75-4cd5-c33f-357d6ff37c6e",
        "colab": {
          "base_uri": "https://localhost:8080/"
        }
      },
      "execution_count": 24,
      "outputs": [
        {
          "output_type": "stream",
          "name": "stdout",
          "text": [
            "2\n",
            "OOXXOXXOOO\n",
            "10\n",
            "OOXXOOXXOO\n",
            "9\n"
          ]
        }
      ]
    },
    {
      "cell_type": "markdown",
      "source": [
        "7번 4344번"
      ],
      "metadata": {
        "id": "3DF4dHmBGQD3"
      }
    },
    {
      "cell_type": "code",
      "source": [
        "import numpy as np\n",
        "\n",
        "cnt = int(input())\n",
        "for i in range(cnt):\n",
        "    li = np.array(list(map(int, input().split())))[1:]\n",
        "    ans = len( li[li > li.mean()] )/len(li)\n",
        "    print( \"%.3f%%\" % (ans*100) )\n",
        "### 백준 numpy 사용 불가..."
      ],
      "metadata": {
        "id": "-hqzscb9GTA3",
        "outputId": "1a77c346-be36-4ce6-8e50-947ac6c41880",
        "colab": {
          "base_uri": "https://localhost:8080/"
        }
      },
      "execution_count": 48,
      "outputs": [
        {
          "output_type": "stream",
          "name": "stdout",
          "text": [
            "3\n",
            "5 50 50 70 80 100\n",
            "40.000%\n",
            "7 100 95 90 80 70 60 50\n",
            "57.143%\n",
            "3 70 90 80\n",
            "33.333%\n"
          ]
        }
      ]
    },
    {
      "cell_type": "code",
      "source": [
        "import numpy as np\n",
        "\n",
        "cnt = int(input())\n",
        "for i in range(cnt):\n",
        "    li = np.array(list(map(int, input().split())))[1:]\n",
        "    ans = len( li[li > li.mean()] )/len(li)\n",
        "    print( \"%.3f%%\" % (ans*100) )\n"
      ],
      "metadata": {
        "id": "azIcYs9hL0nf"
      },
      "execution_count": null,
      "outputs": []
    },
    {
      "cell_type": "code",
      "source": [
        "cnt = int(input())\n",
        "\n",
        "for i in range(cnt):\n",
        "    upper = []\n",
        "    li = list(map(int, input().split()))[1:]\n",
        "    for j in li:\n",
        "        if j > sum(li)/len(li):\n",
        "            upper.append(j)\n",
        "    ans = len(upper)/len(li)\n",
        "    print( \"%.3f%%\" % (ans*100) )"
      ],
      "metadata": {
        "id": "Umf6IwWzNHg3",
        "outputId": "183355c1-7eba-47fb-d4d8-70ca50a4e9ae",
        "colab": {
          "base_uri": "https://localhost:8080/"
        }
      },
      "execution_count": 60,
      "outputs": [
        {
          "output_type": "stream",
          "name": "stdout",
          "text": [
            "1\n",
            "5 50 50 70 80 100\n",
            "40.000%\n"
          ]
        }
      ]
    },
    {
      "cell_type": "code",
      "source": [
        "x = 0.4\n",
        "print(\"%.1f\" % x)"
      ],
      "metadata": {
        "id": "KCfJO9esKN7X",
        "outputId": "9f348f87-9edb-42fe-dd0f-a37180e151c9",
        "colab": {
          "base_uri": "https://localhost:8080/"
        }
      },
      "execution_count": 40,
      "outputs": [
        {
          "output_type": "stream",
          "name": "stdout",
          "text": [
            "0.4\n"
          ]
        }
      ]
    },
    {
      "cell_type": "code",
      "source": [
        "a = np.array([5, 50, 50, 70, 80, 100])[1:]\n",
        "len(a[a > a.mean()])/len(a)"
      ],
      "metadata": {
        "id": "ikwA88FiH1oi",
        "outputId": "80d27a30-1085-42a9-e558-c2fafd42624c",
        "colab": {
          "base_uri": "https://localhost:8080/"
        }
      },
      "execution_count": 29,
      "outputs": [
        {
          "output_type": "execute_result",
          "data": {
            "text/plain": [
              "0.4"
            ]
          },
          "metadata": {},
          "execution_count": 29
        }
      ]
    },
    {
      "cell_type": "code",
      "source": [
        "a = [5, 50, 50, 70, 80, 100][1:]\n",
        "# sum = 0\n",
        "# for i in a[1:]:\n",
        "#     sum +=\n",
        "sum(a)/len(a)\n",
        "upper = []\n",
        "for i in a:\n",
        "    if i > sum(a)/len(a):\n",
        "        upper.append(i)\n",
        "print(len(upper)/len(a))"
      ],
      "metadata": {
        "id": "2i1yMEvNL95G",
        "outputId": "6aff926b-df25-44fc-a080-8a2137fdfbeb",
        "colab": {
          "base_uri": "https://localhost:8080/"
        }
      },
      "execution_count": 56,
      "outputs": [
        {
          "output_type": "stream",
          "name": "stdout",
          "text": [
            "0.4\n"
          ]
        }
      ]
    }
  ]
}
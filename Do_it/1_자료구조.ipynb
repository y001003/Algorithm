{
  "nbformat": 4,
  "nbformat_minor": 0,
  "metadata": {
    "colab": {
      "name": "1.자료구조.ipynb",
      "provenance": [],
      "authorship_tag": "ABX9TyOG05C0qzMaDGEtfGYC2wKA",
      "include_colab_link": true
    },
    "kernelspec": {
      "name": "python3",
      "display_name": "Python 3"
    },
    "language_info": {
      "name": "python"
    }
  },
  "cells": [
    {
      "cell_type": "markdown",
      "metadata": {
        "id": "view-in-github",
        "colab_type": "text"
      },
      "source": [
        "<a href=\"https://colab.research.google.com/github/y001003/Algorithm/blob/main/Do_it/1_%EC%9E%90%EB%A3%8C%EA%B5%AC%EC%A1%B0.ipynb\" target=\"_parent\"><img src=\"https://colab.research.google.com/assets/colab-badge.svg\" alt=\"Open In Colab\"/></a>"
      ]
    },
    {
      "cell_type": "markdown",
      "source": [
        "# 3.1 배열과 리스트"
      ],
      "metadata": {
        "id": "UUpB7hwZ_UVA"
      }
    },
    {
      "cell_type": "markdown",
      "source": [
        "## 문제001 숫자의 합 구하기 - 백준 11720\n",
        "\n",
        "https://www.acmicpc.net/problem/11720"
      ],
      "metadata": {
        "id": "QVJw7sSAALXn"
      }
    },
    {
      "cell_type": "code",
      "source": [
        "n = int(input())\n",
        "ipt = input()\n",
        "s = 0\n",
        "for i in ipt:\n",
        "    s += int(i)\n",
        "print(s)    "
      ],
      "metadata": {
        "colab": {
          "base_uri": "https://localhost:8080/"
        },
        "id": "WYuUiaS0AYFy",
        "outputId": "fad8f84c-b5d8-403c-a0b6-2e48eda51e11"
      },
      "execution_count": 2,
      "outputs": [
        {
          "output_type": "stream",
          "name": "stdout",
          "text": [
            "5\n",
            "54321\n",
            "15\n"
          ]
        }
      ]
    },
    {
      "cell_type": "markdown",
      "source": [
        "## 문제002 평균 구하기 - 백준 1546\n",
        "\n",
        "https://www.acmicpc.net/problem/1546"
      ],
      "metadata": {
        "id": "RcoPLAufCGuY"
      }
    },
    {
      "cell_type": "code",
      "source": [
        "n = int(input())\n",
        "ipt = list(map(int, input().split()))\n",
        "max = max(ipt)\n",
        "t = list()\n",
        "for i in ipt:\n",
        "    t.append(i/max * 100)\n",
        "\n",
        "print(sum(t)/n)"
      ],
      "metadata": {
        "colab": {
          "base_uri": "https://localhost:8080/"
        },
        "id": "GsbY8wRnCWc6",
        "outputId": "2d34cf93-afa9-4dc7-df31-6d35d4927867"
      },
      "execution_count": 2,
      "outputs": [
        {
          "output_type": "stream",
          "name": "stdout",
          "text": [
            "3\n",
            "40 80 60\n",
            "75.0\n"
          ]
        }
      ]
    },
    {
      "cell_type": "code",
      "source": [
        "n = int(input())\n",
        "ipt = list(map(int, input().split()))\n",
        "max = max(ipt)\n",
        "sum = sum(ipt)\n",
        "print(sum/max*100/n)"
      ],
      "metadata": {
        "colab": {
          "base_uri": "https://localhost:8080/"
        },
        "id": "CsdySHwLEeeS",
        "outputId": "dd9faad6-9116-4c70-e203-0a957a73b86a"
      },
      "execution_count": 1,
      "outputs": [
        {
          "output_type": "stream",
          "name": "stdout",
          "text": [
            "3\n",
            "40 80 60\n",
            "75.0\n"
          ]
        }
      ]
    },
    {
      "cell_type": "markdown",
      "source": [
        "# 3.2 구간 합"
      ],
      "metadata": {
        "id": "YlPW4chJGOBX"
      }
    },
    {
      "cell_type": "markdown",
      "source": [
        "합배열  \n",
        "S[i] = S[i-1] + A[i].  \n",
        "구간합  \n",
        "S[j] - S[i-1] # i에서 j까지 구간 합"
      ],
      "metadata": {
        "id": "O0LhaoSZGS6H"
      }
    },
    {
      "cell_type": "markdown",
      "source": [
        "## 문제 003 구간 합 구하기 - 백준 11659\n",
        "https://www.acmicpc.net/problem/11659"
      ],
      "metadata": {
        "id": "tISaDOvpK64l"
      }
    },
    {
      "cell_type": "code",
      "source": [
        "import sys\n",
        "input = sys.stdin.readline\n",
        "\n",
        "n, m = map(int, input().split()) # 데이터의 개수, 합을 구해야 하는 횟수\n",
        "ipt_list = list(map(int, input().split()))\n",
        "\n",
        "a = [0]\n",
        "sum = 0\n",
        "for i in range(len(ipt_list)):\n",
        "    sum += ipt_list[i]\n",
        "    a.append(sum)\n",
        "\n",
        "for _ in range(m):\n",
        "    i, j = map(int, input().split())\n",
        "    \n",
        "    print(a[j]-a[i-1])\n",
        "\n"
      ],
      "metadata": {
        "colab": {
          "base_uri": "https://localhost:8080/"
        },
        "id": "N-07k1uFMFB0",
        "outputId": "b9d1c858-75db-499c-8cae-ee7bb9caf53f"
      },
      "execution_count": 1,
      "outputs": [
        {
          "output_type": "stream",
          "name": "stdout",
          "text": [
            "5 3\n",
            "5 4 3 2 1\n",
            "1 3\n",
            "12\n",
            "2 4\n",
            "9\n",
            "3 5\n",
            "6\n"
          ]
        }
      ]
    },
    {
      "cell_type": "markdown",
      "source": [
        "## 문제 004 구간 합 구하기2 - 백준 11660\n",
        "https://www.acmicpc.net/problem/11660"
      ],
      "metadata": {
        "id": "edOJXWg3Xqze"
      }
    },
    {
      "cell_type": "code",
      "source": [
        "n = int(input())\n",
        "D = [[0]*n for _ in range(n)] # 0 행렬\n",
        "\n",
        "# 원본 행렬 행렬\n",
        "print(\"원본 행렬\")\n",
        "for i in range(1,1+n):\n",
        "    print()\n",
        "    for j in range(i,i+n):\n",
        "        print(j,end=\" \")\n",
        "print(\"\")\n",
        "print(\"합 행렬\")\n",
        "for i in range(1, n+1):\n",
        "    print()\n",
        "    for j in range(1, n+1):\n",
        "        D[i-1][j-1] = i\n"
      ],
      "metadata": {
        "colab": {
          "base_uri": "https://localhost:8080/"
        },
        "id": "jA956f7xhBAS",
        "outputId": "e79ced98-8406-4129-ac6b-c066960ddae4"
      },
      "execution_count": 28,
      "outputs": [
        {
          "output_type": "stream",
          "name": "stdout",
          "text": [
            "4\n",
            "원본 행렬\n",
            "\n",
            "1 2 3 4 \n",
            "2 3 4 5 \n",
            "3 4 5 6 \n",
            "4 5 6 7 \n",
            "합 행렬\n",
            "\n",
            "\n",
            "\n",
            "\n"
          ]
        }
      ]
    },
    {
      "cell_type": "code",
      "source": [
        "D = [[0]*n for _ in range(n)]\n",
        "D"
      ],
      "metadata": {
        "colab": {
          "base_uri": "https://localhost:8080/"
        },
        "id": "5w9PBEcMjgw4",
        "outputId": "45b931f9-352d-4a91-b79b-d64de42bec07"
      },
      "execution_count": 24,
      "outputs": [
        {
          "output_type": "execute_result",
          "data": {
            "text/plain": [
              "[[0, 0, 0, 0], [0, 0, 0, 0], [0, 0, 0, 0], [0, 0, 0, 0]]"
            ]
          },
          "metadata": {},
          "execution_count": 24
        }
      ]
    },
    {
      "cell_type": "code",
      "source": [
        "[[0] for _ in range(5)]"
      ],
      "metadata": {
        "colab": {
          "base_uri": "https://localhost:8080/"
        },
        "id": "czDeTzcAj2yp",
        "outputId": "e93b0f47-1014-40a7-93e0-cf44c3789136"
      },
      "execution_count": 20,
      "outputs": [
        {
          "output_type": "execute_result",
          "data": {
            "text/plain": [
              "[[0], [0], [0], [0], [0]]"
            ]
          },
          "metadata": {},
          "execution_count": 20
        }
      ]
    }
  ]
}